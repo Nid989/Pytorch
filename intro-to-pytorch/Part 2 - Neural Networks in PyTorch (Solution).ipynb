{
 "cells": [
  {
   "cell_type": "markdown",
   "metadata": {},
   "source": [
    "# Neural networks with PyTorch\n",
    "\n",
    "Deep learning networks tend to be massive with dozens or hundreds of layers, that's where the term \"deep\" comes from. You can build one of these deep networks using only weight matrices as we did in the previous notebook, but in general it's very cumbersome and difficult to implement. PyTorch has a nice module `nn` that provides a nice way to efficiently build large neural networks."
   ]
  },
  {
   "cell_type": "code",
   "execution_count": 3,
   "metadata": {
    "collapsed": true
   },
   "outputs": [],
   "source": [
    "# Import necessary packages\n",
    "\n",
    "%matplotlib inline\n",
    "%config InlineBackend.figure_format = 'retina'\n",
    "\n",
    "import numpy as np\n",
    "import torch\n",
    "\n",
    "import helper\n",
    "\n",
    "import matplotlib.pyplot as plt"
   ]
  },
  {
   "cell_type": "markdown",
   "metadata": {},
   "source": [
    "\n",
    "Now we're going to build a larger network that can solve a (formerly) difficult problem, identifying text in an image. Here we'll use the MNIST dataset which consists of greyscale handwritten digits. Each image is 28x28 pixels, you can see a sample below\n",
    "\n",
    "<img src='assets/mnist.png'>\n",
    "\n",
    "Our goal is to build a neural network that can take one of these images and predict the digit in the image.\n",
    "\n",
    "First up, we need to get our dataset. This is provided through the `torchvision` package. The code below will download the MNIST dataset, then create training and test datasets for us. Don't worry too much about the details here, you'll learn more about this later."
   ]
  },
  {
   "cell_type": "code",
   "execution_count": 4,
   "metadata": {
    "collapsed": true
   },
   "outputs": [],
   "source": [
    "### Run this cell\n",
    "\n",
    "from torchvision import datasets, transforms\n",
    "\n",
    "# Define a transform to normalize the data\n",
    "transform = transforms.Compose([transforms.ToTensor(),\n",
    "                              transforms.Normalize((0.5,), (0.5,)),\n",
    "                              ])\n",
    "# Download and load the training data\n",
    "trainset = datasets.MNIST('~/.pytorch/MNIST_data/', download=True, train=True, transform=transform)\n",
    "trainloader = torch.utils.data.DataLoader(trainset, batch_size=64, shuffle=True)"
   ]
  },
  {
   "cell_type": "markdown",
   "metadata": {},
   "source": [
    "We have the training data loaded into `trainloader` and we make that an iterator with `iter(trainloader)`. Later, we'll use this to loop through the dataset for training, like\n",
    "\n",
    "```python\n",
    "for image, label in trainloader:\n",
    "    ## do things with images and labels\n",
    "```\n",
    "\n",
    "You'll notice I created the `trainloader` with a batch size of 64, and `shuffle=True`. The batch size is the number of images we get in one iteration from the data loader and pass through our network, often called a *batch*. And `shuffle=True` tells it to shuffle the dataset every time we start going through the data loader again. But here I'm just grabbing the first batch so we can check out the data. We can see below that `images` is just a tensor with size `(64, 1, 28, 28)`. So, 64 images per batch, 1 color channel, and 28x28 images."
   ]
  },
  {
   "cell_type": "code",
   "execution_count": 5,
   "metadata": {},
   "outputs": [
    {
     "output_type": "stream",
     "name": "stdout",
     "text": [
      "<class 'torch.Tensor'>\ntorch.Size([64, 1, 28, 28])\ntorch.Size([64])\n"
     ]
    }
   ],
   "source": [
    "dataiter = iter(trainloader)\n",
    "images, labels = dataiter.next()\n",
    "print(type(images))\n",
    "print(images.shape)\n",
    "print(labels.shape)"
   ]
  },
  {
   "cell_type": "markdown",
   "metadata": {},
   "source": [
    "This is what one of the images looks like. "
   ]
  },
  {
   "cell_type": "code",
   "execution_count": 6,
   "metadata": {},
   "outputs": [
    {
     "output_type": "display_data",
     "data": {
      "text/plain": "<Figure size 432x288 with 1 Axes>",
      "image/png": "[encoded data removed]"
     },
     "metadata": {
      "image/png": {
       "width": 251,
       "height": 248
      },
      "needs_background": "light"
     }
    }
   ],
   "source": [
    "plt.imshow(images[1].numpy().squeeze(), cmap='Greys_r');"
   ]
  },
  {
   "cell_type": "markdown",
   "metadata": {},
   "source": [
    "First, let's try to build a simple network for this dataset using weight matrices and matrix multiplications. Then, we'll see how to do it using PyTorch's `nn` module which provides a much more convenient and powerful method for defining network architectures.\n",
    "\n",
    "The networks you've seen so far are called *fully-connected* or *dense* networks. Each unit in one layer is connected to each unit in the next layer. In fully-connected networks, the input to each layer must be a one-dimensional vector (which can be stacked into a 2D tensor as a batch of multiple examples). However, our images are 28x28 2D tensors, so we need to convert them into 1D vectors. Thinking about sizes, we need to convert the batch of images with shape `(64, 1, 28, 28)` to a have a shape of `(64, 784)`, 784 is 28 times 28. This is typically called *flattening*, we flattened the 2D images into 1D vectors.\n",
    "\n",
    "Previously you built a network with one output unit. Here we need 10 output units, one for each digit. We want our network to predict the digit shown in an image, so what we'll do is calculate probabilities that the image is of any one digit or class. This ends up being a discrete probability distribution over the classes (digits) that tells us the most likely class for the image. That means we need 10 output units for the 10 classes (digits). We'll see how to convert the network output into a probability distribution next.\n",
    "\n",
    "> **Exercise:** Flatten the batch of images `images`. Then build a multi-layer network with 784 input units, 256 hidden units, and 10 output units using random tensors for the weights and biases. For now, use a sigmoid activation for the hidden layer. Leave the output layer without an activation, we'll add one that gives us a probability distribution next."
   ]
  },
  {
   "cell_type": "code",
   "execution_count": 7,
   "metadata": {
    "collapsed": true
   },
   "outputs": [],
   "source": [
    "## Solution\n",
    "def activation(x):\n",
    "    return 1/(1+torch.exp(-x))\n",
    "\n",
    "# Flatten the input images\n",
    "inputs = images.view(images.shape[0], -1)\n",
    "\n",
    "# Create parameters\n",
    "w1 = torch.randn(784, 256)\n",
    "b1 = torch.randn(256)\n",
    "\n",
    "w2 = torch.randn(256, 10)\n",
    "b2 = torch.randn(10)\n",
    "\n",
    "h = activation(torch.mm(inputs, w1) + b1)\n",
    "\n",
    "out = torch.mm(h, w2) + b2"
   ]
  },
  {
   "cell_type": "code",
   "execution_count": 8,
   "metadata": {},
   "outputs": [
    {
     "output_type": "stream",
     "name": "stdout",
     "text": [
      "tensor([[ 9.2015e-02, -7.0489e-01, -2.3667e+01,  1.2369e+01, -1.6529e+01,\n         -1.0252e+01, -1.0603e+01,  3.3863e-01, -8.4337e+00, -7.4284e+00],\n        [ 9.7521e+00, -2.0787e+00, -1.2472e+01,  9.9998e+00, -1.4615e+01,\n         -5.2837e+00, -7.2841e+00, -8.2917e+00,  1.0624e+00, -1.3260e+01],\n        [-2.5550e+00,  3.1879e+00, -1.8220e+01,  1.5956e+01, -2.5079e+01,\n         -3.0400e+00, -4.6173e+00, -4.0769e+00, -2.6397e+00, -3.5629e+00],\n        [-1.2769e+01,  1.6805e+00, -5.3887e+00,  2.4758e+01, -1.5135e+01,\n         -2.4424e+00, -9.2832e+00, -1.0967e+01, -5.2588e+00, -6.7128e+00],\n        [ 1.8256e+00,  7.6341e-01, -1.0408e+01,  1.4961e+01, -1.7447e+01,\n         -5.9254e+00, -1.6133e+00, -1.2460e+00, -4.8420e+00,  1.0034e+00],\n        [-1.6385e+00, -3.0668e+00, -1.1616e+01,  1.1724e+01, -1.2545e+01,\n         -1.2516e+00, -1.2740e+01, -6.1598e+00, -4.4461e+00,  1.6301e+00],\n        [-1.0760e+01,  1.3604e+00, -1.0385e+01,  2.4786e+01, -2.5257e+01,\n         -1.1480e+01, -1.5137e+01, -2.7941e+00,  2.6490e+00, -1.3442e+01],\n        [-2.4041e+00,  6.0489e-01, -2.2024e+01,  1.9297e+01, -2.1991e+01,\n         -7.6666e+00, -1.8984e+00,  6.1081e-02, -2.6256e+00, -1.0027e+01],\n        [ 4.6441e-01, -3.5616e+00, -1.5897e+01,  9.4482e+00, -1.8942e+01,\n          1.5894e+00, -1.7256e+01, -1.5682e+01, -7.0080e-01, -1.2457e+01],\n        [ 5.6147e+00, -7.6642e+00, -2.4603e+01,  8.1052e+00, -1.6307e+01,\n          5.2659e-01, -9.5396e+00, -3.0062e+00, -9.6459e+00, -1.0180e+01],\n        [ 2.2907e+00,  1.6060e+00, -1.6400e+01,  8.7628e+00, -1.8353e+01,\n         -4.0513e+00, -3.4970e+00, -5.8864e+00, -8.7932e+00, -9.1059e+00],\n        [-1.6516e+00, -3.7789e+00, -8.5021e+00,  1.1651e+01, -1.2660e+01,\n         -7.0657e-01, -1.0297e+01, -1.7017e+01, -9.8089e+00, -1.1617e+01],\n        [-4.5520e+00, -4.1847e+00, -1.6633e+01,  8.1956e+00, -2.0554e+01,\n          1.8208e-01, -9.8088e+00, -1.1008e+01, -4.7566e+00, -3.7865e+00],\n        [ 4.6369e+00,  6.8198e-01, -1.6657e+01,  1.2583e+01, -1.5343e+01,\n         -2.7394e+00, -1.4293e+01, -1.2465e+01, -7.6027e+00, -5.5980e+00],\n        [ 3.9497e+00, -4.3241e+00, -1.2557e+01,  1.0707e+00, -2.4161e+01,\n         -1.3489e+01, -5.1958e+00, -5.0152e+00, -9.5519e+00, -1.4962e+01],\n        [-3.3684e+00, -3.7611e+00, -1.4813e+01,  2.2099e+01, -1.3439e+01,\n          5.4632e+00,  4.6096e+00,  1.5370e+00, -9.7788e+00, -1.3689e+01],\n        [-1.1253e+01,  8.2000e-02, -4.1846e+00,  1.6229e+01, -1.2276e+01,\n         -7.0368e+00, -7.5200e+00, -4.9378e+00, -1.2716e+01, -5.5632e+00],\n        [-1.5773e-01,  3.8826e+00, -2.4806e+01,  8.4973e+00, -1.8911e+01,\n         -6.1898e+00, -6.3783e+00, -1.0127e+01, -2.6738e+00, -1.1565e+01],\n        [-6.7103e+00,  1.8004e+00, -7.4125e+00,  1.1127e+01, -8.9780e+00,\n          3.1463e+00, -1.0471e+01, -3.3200e+00, -4.0402e+00,  7.1209e+00],\n        [ 4.1641e+00, -5.7718e+00, -2.4545e+01, -9.4953e-02, -2.0878e+01,\n          7.6014e-02, -1.4656e+01, -3.7580e+00,  6.1005e-01, -4.2817e+00],\n        [ 1.0699e+00, -1.2693e+00, -2.8448e+01,  3.7012e+00, -1.4140e+01,\n         -1.7442e+00, -7.2811e+00, -1.0978e+01, -4.0650e+00, -1.4897e+01],\n        [-5.2766e+00, -3.6266e+00, -1.8682e+01,  1.6954e+01, -1.5007e+01,\n          1.1389e+00, -9.3035e+00, -9.5322e-01, -1.0365e+01, -7.2790e+00],\n        [-1.0829e+01,  2.1055e+00, -1.1243e+01,  5.6532e+00, -1.8938e+01,\n          4.9434e+00, -1.6866e+01,  1.7185e+00,  2.4008e+00, -6.8917e+00],\n        [-8.6396e-01, -1.7074e+01, -4.6749e+00,  1.4836e+01, -1.9343e+01,\n         -8.9803e+00, -1.2286e+01, -1.0337e+01,  8.5411e-01, -1.4097e+01],\n        [ 5.0698e+00, -1.6165e+00, -1.6072e+01,  9.4077e+00, -8.5665e+00,\n          1.1934e+01, -9.6140e+00, -5.0317e+00, -8.4746e+00, -1.0995e+01],\n        [-7.4971e+00, -4.0557e+00, -1.0658e+01,  9.6940e+00, -1.2626e+01,\n         -4.2857e+00, -4.6135e+00, -7.7475e+00, -3.8235e-01, -3.0716e+00],\n        [-8.9328e-01,  7.1462e+00, -2.0229e+01,  1.1228e+01, -1.7802e+01,\n         -5.3789e+00, -1.1308e+01, -4.6171e+00,  5.5301e+00, -8.7225e+00],\n        [ 1.0921e-01,  2.6369e+00, -1.1818e+01,  7.1744e+00, -1.5364e+01,\n         -5.1139e+00,  1.1350e-01, -1.0066e+01, -3.9835e+00, -4.0168e+00],\n        [-8.2861e+00,  8.5934e+00, -9.0507e+00,  1.8595e+01, -1.4651e+01,\n         -1.4384e+01, -2.0752e-02, -8.0936e+00,  1.0192e+00, -1.8041e+01],\n        [-4.9414e+00, -4.8577e+00, -1.6306e+01,  1.5350e+01, -1.9793e+01,\n          2.2583e-01, -1.2779e+01, -5.7633e+00, -6.1731e+00, -7.3869e+00],\n        [ 5.2560e+00, -3.7684e+00, -1.4374e+01,  5.2532e+00, -2.3814e+01,\n         -9.2390e+00, -3.8159e+00, -3.4855e+00, -4.2540e+00, -1.5667e+01],\n        [-5.5960e+00,  3.0431e+00, -1.9204e+01,  1.3447e+01, -2.1655e+01,\n         -3.2161e+00, -1.3663e+01, -9.0208e+00, -4.6691e+00, -1.3117e+01],\n        [ 1.6265e-01, -1.0986e+01, -1.6388e+01,  2.6361e+00, -1.6361e+01,\n         -9.8060e+00, -4.6238e+00, -5.1589e+00, -3.0242e+00, -4.0693e+00],\n        [-6.0554e+00,  1.6824e+00, -1.7258e+01,  4.1061e+00, -1.5393e+01,\n         -1.2521e+01, -9.2035e+00, -7.9411e+00, -4.3910e+00, -4.1237e+00],\n        [-2.3989e+00,  6.1650e+00, -1.2867e+01,  1.5841e+01, -1.5852e+01,\n         -8.8736e+00, -9.0520e+00, -2.6305e+00,  3.7079e-01, -1.1103e+01],\n        [ 1.6728e-01,  1.1552e+00, -1.8286e+01,  1.4556e+01, -1.1843e+01,\n          1.0013e+00, -1.1370e+01, -2.9551e+00, -4.6298e+00, -1.3207e+01],\n        [ 1.9015e+00,  1.3175e+00, -1.8425e+01,  9.9067e+00, -1.4700e+01,\n         -3.0380e+00, -7.7128e+00, -7.7383e+00, -1.4397e+00, -1.0019e+01],\n        [-4.5737e+00, -1.7064e-01, -1.4885e+01,  2.1169e+01, -1.4802e+01,\n         -2.8223e+00, -6.5054e+00, -4.4021e+00, -5.3752e+00, -1.6497e+01],\n        [-6.4323e+00,  7.4233e+00, -8.5611e+00,  1.6882e+01, -1.5962e+01,\n          7.2575e-01, -1.3358e+01, -1.5285e+00, -3.9240e+00, -2.8683e+00],\n        [-2.0238e+00, -2.4866e+00, -2.1608e+01,  1.4849e+01, -1.2530e+01,\n          9.7909e+00, -2.0230e+01, -1.2364e+01, -1.1160e+01, -1.0151e+01],\n        [ 4.3870e+00,  2.8777e+00, -6.6576e+00,  1.6445e+01, -1.8170e+01,\n         -1.8832e+00, -1.3141e+01, -1.4745e+01, -2.4413e+00,  5.2538e+00],\n        [-1.6059e+00,  1.0471e+00, -3.8359e+00,  1.0333e+01, -1.0669e+01,\n         -3.0007e+00, -1.1762e+01, -1.4865e+01, -1.5369e+01, -1.2504e+01],\n        [ 5.7159e+00, -8.2704e-02, -2.3109e+01,  9.4459e+00, -1.6254e+01,\n         -3.2404e+00,  1.2844e+00, -3.0167e+00, -4.3523e+00, -1.2198e+01],\n        [ 6.9071e-01,  1.5013e+00, -1.3999e+01,  9.8453e+00, -1.8227e+01,\n          4.2640e+00, -1.3134e+01, -5.6767e+00,  1.2909e+00, -6.1659e+00],\n        [-8.8844e-01,  1.5735e+00, -1.5794e+01,  1.2245e+01, -1.6845e+01,\n          1.1089e+01, -5.0262e+00, -5.7588e-01,  5.0578e-01, -3.4772e+00],\n        [-5.5271e+00, -7.8297e+00, -7.3924e+00,  3.5335e+00, -8.8930e+00,\n         -8.4929e+00, -1.8820e+00, -9.7724e+00, -9.1492e+00, -1.1290e+01],\n        [ 4.9367e+00, -1.5089e+00, -1.7356e+01,  6.3166e+00, -1.9393e+01,\n         -1.4706e+01, -5.5512e+00, -2.4110e+00, -4.9307e+00, -9.1048e+00],\n        [-5.2427e+00,  1.4219e+00, -1.2597e+01,  1.0663e+01, -1.1225e+01,\n         -4.0384e+00, -1.2494e+01, -6.5478e+00, -1.0474e+01, -2.9575e+00],\n        [-6.7587e+00,  7.9158e+00, -1.2916e+01,  1.1615e+01, -2.1214e+01,\n         -3.1285e+00, -2.6779e+00, -7.7950e+00, -4.0725e+00,  1.6508e+00],\n        [ 4.1308e+00, -1.7790e+00, -1.8650e+01,  1.2341e+01, -1.5720e+01,\n          1.1305e+00, -6.7737e+00, -4.2826e+00, -3.7704e+00, -1.0730e+01],\n        [ 6.4589e+00, -9.9958e+00, -8.0389e+00,  5.8827e+00, -1.6151e+01,\n         -2.3331e+00, -1.4434e+01, -7.5564e+00, -7.7359e+00, -7.2328e+00],\n        [ 1.0471e+00,  2.9349e+00, -1.6326e+01,  9.3061e+00, -1.3423e+01,\n         -3.6091e+00, -8.5557e+00,  3.0075e+00, -9.3106e+00, -1.2924e+01],\n        [-9.7064e+00, -4.1972e+00, -1.7631e+01,  1.2521e+01, -1.5888e+01,\n          1.5586e+00, -1.7362e+01, -2.7558e+00, -1.0545e+01,  5.1983e-01],\n        [ 2.2086e+00,  2.5205e+00, -2.0388e+01,  1.8365e+01, -1.7977e+01,\n         -1.1106e-01, -1.5505e+01, -3.1847e+00, -8.5671e+00, -1.4810e+01],\n        [ 5.7845e+00,  1.3606e+00, -2.0239e+01,  7.6661e+00, -1.5403e+01,\n         -3.1635e+00, -9.3711e+00, -8.4979e+00, -3.6129e+00, -1.0764e+01],\n        [-3.5685e+00,  2.7413e+00, -1.9869e+01,  1.8874e+01, -1.7752e+01,\n         -1.2195e+01, -1.8095e+00, -9.1847e+00,  2.9127e+00, -5.9575e+00],\n        [-9.7299e-01,  2.0521e+00, -1.0303e+01,  1.7427e+01, -1.2541e+01,\n         -1.0053e+01, -2.6478e+00, -7.7847e+00,  1.8256e+00, -4.2480e+00],\n        [ 3.6889e+00, -8.0474e+00, -1.5280e+01,  4.7305e+00, -1.8281e+01,\n         -1.0157e+01, -1.0144e+01, -9.7410e+00, -9.2296e+00, -1.5539e+01],\n        [ 2.4598e-01, -3.7551e+00, -1.8945e+01,  1.3165e+01, -2.2500e+01,\n         -7.3364e-02, -1.7394e+01, -2.9610e+00, -1.1728e+00, -1.4384e+01],\n        [ 6.2693e+00, -4.9920e+00, -1.5539e+01,  1.0565e+01, -2.1907e+01,\n         -9.7210e+00, -1.2108e+01, -5.6645e+00, -9.7319e+00, -1.5476e+01],\n        [-9.1192e+00,  3.9150e+00, -1.3469e+01,  1.3999e+01, -1.2679e+01,\n          3.2246e+00, -8.2149e+00,  4.4927e+00, -4.0384e-01,  1.2118e+00],\n        [ 4.2159e-01, -8.1714e+00, -2.1050e+01,  7.6786e+00, -1.0806e+01,\n         -4.2291e-01, -3.0989e+00, -6.7685e+00, -6.8483e+00, -1.2343e+01],\n        [-2.0860e+00, -6.9723e+00, -1.0262e+01,  1.7214e+01, -2.0978e+01,\n         -6.9938e+00, -4.4499e-01, -1.4710e+01,  2.2273e+00, -5.1262e+00],\n        [ 4.6065e+00, -5.5462e+00, -2.0530e+01,  1.6399e+01, -2.3642e+01,\n          4.3293e+00, -1.3041e+01, -1.8259e+00, -6.6687e+00, -2.0432e+01]])\n"
     ]
    }
   ],
   "source": [
    "print(out)"
   ]
  },
  {
   "cell_type": "markdown",
   "metadata": {},
   "source": [
    "Now we have 10 outputs for our network. We want to pass in an image to our network and get out a probability distribution over the classes that tells us the likely class(es) the image belongs to. Something that looks like this:\n",
    "<img src='assets/image_distribution.png' width=500px>\n",
    "\n",
    "Here we see that the probability for each class is roughly the same. This is representing an untrained network, it hasn't seen any data yet so it just returns a uniform distribution with equal probabilities for each class.\n",
    "\n",
    "To calculate this probability distribution, we often use the [**softmax** function](https://en.wikipedia.org/wiki/Softmax_function). Mathematically this looks like\n",
    "\n",
    "$$\n",
    "\\Large \\sigma(x_i) = \\cfrac{e^{x_i}}{\\sum_k^K{e^{x_k}}}\n",
    "$$\n",
    "\n",
    "What this does is squish each input $x_i$ between 0 and 1 and normalizes the values to give you a proper probability distribution where the probabilites sum up to one.\n",
    "\n",
    "> **Exercise:** Implement a function `softmax` that performs the softmax calculation and returns probability distributions for each example in the batch. Note that you'll need to pay attention to the shapes when doing this. If you have a tensor `a` with shape `(64, 10)` and a tensor `b` with shape `(64,)`, doing `a/b` will give you an error because PyTorch will try to do the division across the columns (called broadcasting) but you'll get a size mismatch. The way to think about this is for each of the 64 examples, you only want to divide by one value, the sum in the denominator. So you need `b` to have a shape of `(64, 1)`. This way PyTorch will divide the 10 values in each row of `a` by the one value in each row of `b`. Pay attention to how you take the sum as well. You'll need to define the `dim` keyword in `torch.sum`. Setting `dim=0` takes the sum across the rows while `dim=1` takes the sum across the columns."
   ]
  },
  {
   "cell_type": "code",
   "execution_count": 9,
   "metadata": {},
   "outputs": [
    {
     "output_type": "stream",
     "name": "stdout",
     "text": [
      "torch.Size([64])\ntorch.Size([64, 1])\n"
     ]
    }
   ],
   "source": [
    "res = torch.sum(torch.exp(out), dim=1)\n",
    "print(res.shape)\n",
    "res = res.view(-1, 1)\n",
    "print(res.shape)"
   ]
  },
  {
   "cell_type": "code",
   "execution_count": 10,
   "metadata": {},
   "outputs": [
    {
     "output_type": "stream",
     "name": "stdout",
     "text": [
      "torch.Size([64, 10])\ntensor([1.0000, 1.0000, 1.0000, 1.0000, 1.0000, 1.0000, 1.0000, 1.0000, 1.0000,\n        1.0000, 1.0000, 1.0000, 1.0000, 1.0000, 1.0000, 1.0000, 1.0000, 1.0000,\n        1.0000, 1.0000, 1.0000, 1.0000, 1.0000, 1.0000, 1.0000, 1.0000, 1.0000,\n        1.0000, 1.0000, 1.0000, 1.0000, 1.0000, 1.0000, 1.0000, 1.0000, 1.0000,\n        1.0000, 1.0000, 1.0000, 1.0000, 1.0000, 1.0000, 1.0000, 1.0000, 1.0000,\n        1.0000, 1.0000, 1.0000, 1.0000, 1.0000, 1.0000, 1.0000, 1.0000, 1.0000,\n        1.0000, 1.0000, 1.0000, 1.0000, 1.0000, 1.0000, 1.0000, 1.0000, 1.0000,\n        1.0000])\n"
     ]
    }
   ],
   "source": [
    "## Solution\n",
    "def softmax(x):\n",
    "    return torch.exp(x)/torch.sum(torch.exp(x), dim=1).view(-1, 1)\n",
    "\n",
    "probabilities = softmax(out)\n",
    "\n",
    "# Does it have the right shape? Should be (64, 10)\n",
    "print(probabilities.shape)\n",
    "# Does it sum to 1?\n",
    "print(probabilities.sum(dim=1))"
   ]
  },
  {
   "cell_type": "markdown",
   "metadata": {},
   "source": [
    "## Building networks with PyTorch\n",
    "\n",
    "PyTorch provides a module `nn` that makes building networks much simpler. Here I'll show you how to build the same one as above with 784 inputs, 256 hidden units, 10 output units and a softmax output."
   ]
  },
  {
   "cell_type": "code",
   "execution_count": 11,
   "metadata": {
    "collapsed": true
   },
   "outputs": [],
   "source": [
    "from torch import nn"
   ]
  },
  {
   "cell_type": "code",
   "execution_count": 12,
   "metadata": {
    "collapsed": true
   },
   "outputs": [],
   "source": [
    "class Network(nn.Module):\n",
    "    def __init__(self):\n",
    "        super().__init__()\n",
    "        \n",
    "        # Inputs to hidden layer linear transformation\n",
    "        self.hidden = nn.Linear(784, 256)\n",
    "        # Output layer, 10 units - one for each digit\n",
    "        self.output = nn.Linear(256, 10)\n",
    "        \n",
    "        # Define sigmoid activation and softmax output \n",
    "        self.sigmoid = nn.Sigmoid()\n",
    "        self.softmax = nn.Softmax(dim=1)\n",
    "        \n",
    "    def forward(self, x):\n",
    "        # Pass the input tensor through each of our operations\n",
    "        x = self.hidden(x)\n",
    "        x = self.sigmoid(x)\n",
    "        x = self.output(x)\n",
    "        x = self.softmax(x)\n",
    "        \n",
    "        return x"
   ]
  },
  {
   "cell_type": "markdown",
   "metadata": {},
   "source": [
    "Let's go through this bit by bit.\n",
    "\n",
    "```python\n",
    "class Network(nn.Module):\n",
    "```\n",
    "\n",
    "Here we're inheriting from `nn.Module`. Combined with `super().__init__()` this creates a class that tracks the architecture and provides a lot of useful methods and attributes. It is mandatory to inherit from `nn.Module` when you're creating a class for your network. The name of the class itself can be anything.\n",
    "\n",
    "```python\n",
    "self.hidden = nn.Linear(784, 256)\n",
    "```\n",
    "\n",
    "This line creates a module for a linear transformation, $x\\mathbf{W} + b$, with 784 inputs and 256 outputs and assigns it to `self.hidden`. The module automatically creates the weight and bias tensors which we'll use in the `forward` method. You can access the weight and bias tensors once the network (`net`) is created with `net.hidden.weight` and `net.hidden.bias`.\n",
    "\n",
    "```python\n",
    "self.output = nn.Linear(256, 10)\n",
    "```\n",
    "\n",
    "Similarly, this creates another linear transformation with 256 inputs and 10 outputs.\n",
    "\n",
    "```python\n",
    "self.sigmoid = nn.Sigmoid()\n",
    "self.softmax = nn.Softmax(dim=1)\n",
    "```\n",
    "\n",
    "Here I defined operations for the sigmoid activation and softmax output. Setting `dim=1` in `nn.Softmax(dim=1)` calculates softmax across the columns.\n",
    "\n",
    "```python\n",
    "def forward(self, x):\n",
    "```\n",
    "\n",
    "PyTorch networks created with `nn.Module` must have a `forward` method defined. It takes in a tensor `x` and passes it through the operations you defined in the `__init__` method.\n",
    "\n",
    "```python\n",
    "x = self.hidden(x)\n",
    "x = self.sigmoid(x)\n",
    "x = self.output(x)\n",
    "x = self.softmax(x)\n",
    "```\n",
    "\n",
    "Here the input tensor `x` is passed through each operation a reassigned to `x`. We can see that the input tensor goes through the hidden layer, then a sigmoid function, then the output layer, and finally the softmax function. It doesn't matter what you name the variables here, as long as the inputs and outputs of the operations match the network architecture you want to build. The order in which you define things in the `__init__` method doesn't matter, but you'll need to sequence the operations correctly in the `forward` method.\n",
    "\n",
    "Now we can create a `Network` object."
   ]
  },
  {
   "cell_type": "code",
   "execution_count": 13,
   "metadata": {},
   "outputs": [
    {
     "output_type": "execute_result",
     "data": {
      "text/plain": [
       "Network(\n",
       "  (hidden): Linear(in_features=784, out_features=256, bias=True)\n",
       "  (output): Linear(in_features=256, out_features=10, bias=True)\n",
       "  (sigmoid): Sigmoid()\n",
       "  (softmax): Softmax(dim=1)\n",
       ")"
      ]
     },
     "metadata": {},
     "execution_count": 13
    }
   ],
   "source": [
    "# Create the network and look at its text representation\n",
    "model = Network()\n",
    "model"
   ]
  },
  {
   "cell_type": "markdown",
   "metadata": {},
   "source": [
    "You can define the network somewhat more concisely and clearly using the `torch.nn.functional` module. This is the most common way you'll see networks defined as many operations are simple element-wise functions. We normally import this module as `F`, `import torch.nn.functional as F`."
   ]
  },
  {
   "cell_type": "code",
   "execution_count": 14,
   "metadata": {
    "collapsed": true
   },
   "outputs": [],
   "source": [
    "import torch.nn.functional as F\n",
    "\n",
    "class Network(nn.Module):\n",
    "    def __init__(self):\n",
    "        super().__init__()\n",
    "        # Inputs to hidden layer linear transformation\n",
    "        self.hidden = nn.Linear(784, 256)\n",
    "        # Output layer, 10 units - one for each digit\n",
    "        self.output = nn.Linear(256, 10)\n",
    "        \n",
    "    def forward(self, x):\n",
    "        # Hidden layer with sigmoid activation\n",
    "        x = F.sigmoid(self.hidden(x))\n",
    "        # Output layer with softmax activation\n",
    "        x = F.softmax(self.output(x), dim=1)\n",
    "        \n",
    "        return x"
   ]
  },
  {
   "cell_type": "markdown",
   "metadata": {},
   "source": [
    "### Activation functions\n",
    "\n",
    "So far we've only been looking at the sigmoid and softmax activation functions, but in general any function can be used as an activation function. The only requirement is that for a network to approximate a non-linear function, the activation functions must be non-linear. Here are a few more examples of common activation functions: Tanh (hyperbolic tangent), and ReLU (rectified linear unit).\n",
    "\n",
    "<img src=\"assets/activation.png\" width=700px>\n",
    "\n",
    "In practice, the ReLU function is used almost exclusively as the activation function for hidden layers."
   ]
  },
  {
   "cell_type": "markdown",
   "metadata": {},
   "source": [
    "### Your Turn to Build a Network\n",
    "\n",
    "<img src=\"assets/mlp_mnist.png\" width=600px>\n",
    "\n",
    "> **Exercise:** Create a network with 784 input units, a hidden layer with 128 units and a ReLU activation, then a hidden layer with 64 units and a ReLU activation, and finally an output layer with a softmax activation as shown above. You can use a ReLU activation with the `nn.ReLU` module or `F.relu` function.\n",
    "\n",
    "It's good practice to name your layers by their type of network, for instance 'fc' to represent a fully-connected layer. As you code your solution, use `fc1`, `fc2`, and `fc3` as your layer names."
   ]
  },
  {
   "cell_type": "code",
   "execution_count": 15,
   "metadata": {
    "scrolled": true
   },
   "outputs": [
    {
     "output_type": "execute_result",
     "data": {
      "text/plain": [
       "Network(\n",
       "  (fc1): Linear(in_features=784, out_features=128, bias=True)\n",
       "  (fc2): Linear(in_features=128, out_features=64, bias=True)\n",
       "  (fc3): Linear(in_features=64, out_features=10, bias=True)\n",
       ")"
      ]
     },
     "metadata": {},
     "execution_count": 15
    }
   ],
   "source": [
    "class Network(nn.Module):\n",
    "    def __init__(self):\n",
    "        super().__init__()\n",
    "        # Defining the layers, 128, 64, 10 units each\n",
    "        self.fc1 = nn.Linear(784, 128)\n",
    "        self.fc2 = nn.Linear(128, 64)\n",
    "        # Output layer, 10 units - one for each digit\n",
    "        self.fc3 = nn.Linear(64, 10)\n",
    "        \n",
    "    def forward(self, x):\n",
    "        ''' Forward pass through the network, returns the output logits '''\n",
    "        \n",
    "        x = self.fc1(x)\n",
    "        x = F.relu(x)\n",
    "        x = self.fc2(x)\n",
    "        x = F.relu(x)\n",
    "        x = self.fc3(x)\n",
    "        x = F.softmax(x, dim=1)\n",
    "        \n",
    "        return x\n",
    "\n",
    "model = Network()\n",
    "model"
   ]
  },
  {
   "cell_type": "markdown",
   "metadata": {},
   "source": [
    "### Initializing weights and biases\n",
    "\n",
    "The weights and biases are automatically initialized for you, but it's possible to customize how they are initialized. The weights and biases are tensors attached to the layer you defined, you can get them with `model.fc1.weight` for instance."
   ]
  },
  {
   "cell_type": "code",
   "execution_count": 16,
   "metadata": {},
   "outputs": [
    {
     "output_type": "stream",
     "name": "stdout",
     "text": [
      "Parameter containing:\ntensor([[-0.0248,  0.0147,  0.0156,  ..., -0.0111,  0.0023, -0.0053],\n        [-0.0184,  0.0101, -0.0079,  ..., -0.0340, -0.0124,  0.0303],\n        [ 0.0239,  0.0322,  0.0079,  ..., -0.0185,  0.0204, -0.0335],\n        ...,\n        [-0.0131, -0.0062, -0.0072,  ..., -0.0058, -0.0335,  0.0218],\n        [-0.0010,  0.0156, -0.0349,  ..., -0.0133,  0.0011,  0.0137],\n        [-0.0235, -0.0334, -0.0320,  ...,  0.0333,  0.0327,  0.0170]],\n       requires_grad=True)\nParameter containing:\ntensor([-0.0137, -0.0044,  0.0306, -0.0276, -0.0284, -0.0195, -0.0057,  0.0045,\n         0.0088, -0.0225, -0.0075, -0.0143, -0.0123,  0.0175,  0.0032,  0.0327,\n        -0.0111,  0.0285, -0.0136, -0.0345, -0.0165,  0.0102, -0.0016, -0.0092,\n        -0.0136, -0.0270,  0.0341,  0.0118,  0.0140, -0.0086,  0.0288,  0.0079,\n         0.0121,  0.0204,  0.0269, -0.0066,  0.0238, -0.0209,  0.0121, -0.0308,\n        -0.0160, -0.0263, -0.0311, -0.0228,  0.0275,  0.0309, -0.0308,  0.0013,\n        -0.0164,  0.0327,  0.0176,  0.0332,  0.0131, -0.0076, -0.0158, -0.0110,\n        -0.0323,  0.0179, -0.0021,  0.0249,  0.0074, -0.0052, -0.0151, -0.0204,\n         0.0121,  0.0087,  0.0072,  0.0066,  0.0355,  0.0081,  0.0094, -0.0090,\n        -0.0201,  0.0181,  0.0067,  0.0078,  0.0007, -0.0245, -0.0124,  0.0121,\n         0.0037,  0.0141, -0.0236, -0.0265,  0.0201, -0.0027, -0.0239,  0.0061,\n         0.0311, -0.0302, -0.0300, -0.0347, -0.0157, -0.0201,  0.0341, -0.0215,\n        -0.0197,  0.0283,  0.0335, -0.0117, -0.0303, -0.0352,  0.0152,  0.0298,\n         0.0007,  0.0002,  0.0034, -0.0115, -0.0251, -0.0166, -0.0190, -0.0061,\n         0.0257,  0.0101, -0.0082, -0.0045, -0.0332, -0.0096,  0.0250, -0.0069,\n        -0.0275,  0.0099,  0.0211,  0.0310,  0.0099, -0.0116,  0.0325, -0.0006],\n       requires_grad=True)\n"
     ]
    }
   ],
   "source": [
    "print(model.fc1.weight)\n",
    "print(model.fc1.bias)"
   ]
  },
  {
   "cell_type": "markdown",
   "metadata": {},
   "source": [
    "For custom initialization, we want to modify these tensors in place. These are actually autograd *Variables*, so we need to get back the actual tensors with `model.fc1.weight.data`. Once we have the tensors, we can fill them with zeros (for biases) or random normal values."
   ]
  },
  {
   "cell_type": "code",
   "execution_count": 17,
   "metadata": {},
   "outputs": [
    {
     "output_type": "execute_result",
     "data": {
      "text/plain": [
       "tensor([0., 0., 0., 0., 0., 0., 0., 0., 0., 0., 0., 0., 0., 0., 0., 0., 0., 0., 0., 0., 0., 0., 0., 0.,\n",
       "        0., 0., 0., 0., 0., 0., 0., 0., 0., 0., 0., 0., 0., 0., 0., 0., 0., 0., 0., 0., 0., 0., 0., 0.,\n",
       "        0., 0., 0., 0., 0., 0., 0., 0., 0., 0., 0., 0., 0., 0., 0., 0., 0., 0., 0., 0., 0., 0., 0., 0.,\n",
       "        0., 0., 0., 0., 0., 0., 0., 0., 0., 0., 0., 0., 0., 0., 0., 0., 0., 0., 0., 0., 0., 0., 0., 0.,\n",
       "        0., 0., 0., 0., 0., 0., 0., 0., 0., 0., 0., 0., 0., 0., 0., 0., 0., 0., 0., 0., 0., 0., 0., 0.,\n",
       "        0., 0., 0., 0., 0., 0., 0., 0.])"
      ]
     },
     "metadata": {},
     "execution_count": 17
    }
   ],
   "source": [
    "# Set biases to all zeros\n",
    "model.fc1.bias.data.fill_(0)"
   ]
  },
  {
   "cell_type": "code",
   "execution_count": 18,
   "metadata": {},
   "outputs": [
    {
     "output_type": "execute_result",
     "data": {
      "text/plain": [
       "tensor([[-1.9372e-02, -1.1843e-02, -4.4297e-07,  ..., -3.9668e-03,\n",
       "         -7.3415e-03, -1.0726e-02],\n",
       "        [-8.9664e-03,  7.3477e-03, -3.0939e-03,  ..., -1.9666e-03,\n",
       "         -7.3054e-03,  3.0594e-03],\n",
       "        [ 7.3942e-03,  5.5257e-03, -2.8597e-03,  ...,  1.1712e-02,\n",
       "          1.1061e-02,  3.3329e-03],\n",
       "        ...,\n",
       "        [ 2.0283e-02, -6.1679e-03,  6.9117e-03,  ...,  1.2465e-03,\n",
       "          8.0727e-03, -1.5115e-03],\n",
       "        [-4.9726e-03, -1.0862e-02, -1.0174e-02,  ...,  1.0604e-02,\n",
       "          2.3582e-02, -1.4306e-03],\n",
       "        [ 8.4929e-03, -6.1568e-03,  4.7762e-03,  ...,  2.2051e-02,\n",
       "         -1.0092e-02, -1.8997e-02]])"
      ]
     },
     "metadata": {},
     "execution_count": 18
    }
   ],
   "source": [
    "# sample from random normal with standard dev = 0.01\n",
    "model.fc1.weight.data.normal_(std=0.01)"
   ]
  },
  {
   "cell_type": "markdown",
   "metadata": {},
   "source": [
    "### Forward pass\n",
    "\n",
    "Now that we have a network, let's see what happens when we pass in an image."
   ]
  },
  {
   "cell_type": "code",
   "execution_count": 19,
   "metadata": {},
   "outputs": [
    {
     "output_type": "display_data",
     "data": {
      "text/plain": "<Figure size 432x648 with 2 Axes>",
      "image/png": "[encoded data removed]"
     },
     "metadata": {
      "image/png": {
       "width": 424,
       "height": 235
      },
      "needs_background": "light"
     }
    }
   ],
   "source": [
    "# Grab some data \n",
    "dataiter = iter(trainloader)\n",
    "images, labels = dataiter.next()\n",
    "\n",
    "# Resize images into a 1D vector, new shape is (batch size, color channels, image pixels) \n",
    "images.resize_(64, 1, 784)\n",
    "# or images.resize_(images.shape[0], 1, 784) to automatically get batch size\n",
    "\n",
    "# Forward pass through the network\n",
    "img_idx = 0\n",
    "ps = model.forward(images[img_idx,:])\n",
    "\n",
    "img = images[img_idx]\n",
    "helper.view_classify(img.view(1, 28, 28), ps)"
   ]
  },
  {
   "cell_type": "markdown",
   "metadata": {},
   "source": [
    "As you can see above, our network has basically no idea what this digit is. It's because we haven't trained it yet, all the weights are random!\n",
    "\n",
    "### Using `nn.Sequential`\n",
    "\n",
    "PyTorch provides a convenient way to build networks like this where a tensor is passed sequentially through operations, `nn.Sequential` ([documentation](https://pytorch.org/docs/master/nn.html#torch.nn.Sequential)). Using this to build the equivalent network:"
   ]
  },
  {
   "cell_type": "code",
   "execution_count": 49,
   "metadata": {},
   "outputs": [
    {
     "output_type": "stream",
     "name": "stdout",
     "text": [
      "Sequential(\n  (0): Linear(in_features=784, out_features=128, bias=True)\n  (1): ReLU()\n  (2): Linear(in_features=128, out_features=64, bias=True)\n  (3): ReLU()\n  (4): Linear(in_features=64, out_features=10, bias=True)\n  (5): Softmax(dim=1)\n)\n"
     ]
    },
    {
     "output_type": "display_data",
     "data": {
      "text/plain": "<Figure size 432x648 with 2 Axes>",
      "image/png": "[encoded data removed]"
     },
     "metadata": {
      "image/png": {
       "width": 424,
       "height": 235
      },
      "needs_background": "light"
     }
    }
   ],
   "source": [
    "# Hyperparameters for our network\n",
    "input_size = 784\n",
    "hidden_sizes = [128, 64]\n",
    "output_size = 10\n",
    "\n",
    "# Build a feed-forward network\n",
    "model = nn.Sequential(nn.Linear(input_size, hidden_sizes[0]),\n",
    "                      nn.ReLU(),\n",
    "                      nn.Linear(hidden_sizes[0], hidden_sizes[1]),\n",
    "                      nn.ReLU(),\n",
    "                      nn.Linear(hidden_sizes[1], output_size),\n",
    "                      nn.Softmax(dim=1))\n",
    "print(model)\n",
    "\n",
    "# Forward pass through the network and display output\n",
    "images, labels = next(iter(trainloader))\n",
    "images.resize_(images.shape[0], 1, 784)\n",
    "ps = model.forward(images[0,:])\n",
    "helper.view_classify(images[0].view(1, 28, 28), ps)"
   ]
  },
  {
   "cell_type": "markdown",
   "metadata": {},
   "source": [
    "The operations are availble by passing in the appropriate index. For example, if you want to get first Linear operation and look at the weights, you'd use `model[0]`."
   ]
  },
  {
   "cell_type": "code",
   "execution_count": 50,
   "metadata": {},
   "outputs": [
    {
     "output_type": "stream",
     "name": "stdout",
     "text": [
      "Linear(in_features=784, out_features=128, bias=True)\n"
     ]
    },
    {
     "output_type": "execute_result",
     "data": {
      "text/plain": [
       "Parameter containing:\n",
       "tensor([[ 0.0033,  0.0261,  0.0322,  ..., -0.0182,  0.0292, -0.0029],\n",
       "        [-0.0130,  0.0314,  0.0305,  ..., -0.0207, -0.0041, -0.0243],\n",
       "        [-0.0038,  0.0039, -0.0190,  ..., -0.0188,  0.0096, -0.0010],\n",
       "        ...,\n",
       "        [ 0.0168, -0.0330,  0.0055,  ...,  0.0278,  0.0142, -0.0135],\n",
       "        [-0.0170, -0.0022,  0.0151,  ...,  0.0298,  0.0098,  0.0286],\n",
       "        [ 0.0071, -0.0074,  0.0222,  ..., -0.0232, -0.0207, -0.0317]],\n",
       "       requires_grad=True)"
      ]
     },
     "metadata": {},
     "execution_count": 50
    }
   ],
   "source": [
    "print(model[0])\n",
    "model[0].weight"
   ]
  },
  {
   "cell_type": "markdown",
   "metadata": {},
   "source": [
    "You can also pass in an `OrderedDict` to name the individual layers and operations, instead of using incremental integers. Note that dictionary keys must be unique, so _each operation must have a different name_."
   ]
  },
  {
   "cell_type": "code",
   "execution_count": 51,
   "metadata": {},
   "outputs": [
    {
     "output_type": "execute_result",
     "data": {
      "text/plain": [
       "Sequential(\n",
       "  (fc1): Linear(in_features=784, out_features=128, bias=True)\n",
       "  (relu1): ReLU()\n",
       "  (fc2): Linear(in_features=128, out_features=64, bias=True)\n",
       "  (relu2): ReLU()\n",
       "  (output): Linear(in_features=64, out_features=10, bias=True)\n",
       "  (softmax): Softmax(dim=1)\n",
       ")"
      ]
     },
     "metadata": {},
     "execution_count": 51
    }
   ],
   "source": [
    "from collections import OrderedDict\n",
    "model = nn.Sequential(OrderedDict([\n",
    "                      ('fc1', nn.Linear(input_size, hidden_sizes[0])),\n",
    "                      ('relu1', nn.ReLU()),\n",
    "                      ('fc2', nn.Linear(hidden_sizes[0], hidden_sizes[1])),\n",
    "                      ('relu2', nn.ReLU()),\n",
    "                      ('output', nn.Linear(hidden_sizes[1], output_size)),\n",
    "                      ('softmax', nn.Softmax(dim=1))]))\n",
    "model"
   ]
  },
  {
   "cell_type": "markdown",
   "metadata": {},
   "source": [
    "Now you can access layers either by integer or the name"
   ]
  },
  {
   "cell_type": "code",
   "execution_count": 52,
   "metadata": {},
   "outputs": [
    {
     "output_type": "stream",
     "name": "stdout",
     "text": [
      "Linear(in_features=784, out_features=128, bias=True)\nLinear(in_features=784, out_features=128, bias=True)\n"
     ]
    }
   ],
   "source": [
    "print(model[0])\n",
    "print(model.fc1)"
   ]
  },
  {
   "cell_type": "markdown",
   "metadata": {},
   "source": [
    "In the next notebook, we'll see how we can train a neural network to accuractly predict the numbers appearing in the MNIST images."
   ]
  }
 ],
 "metadata": {
  "kernelspec": {
   "name": "python388jvsc74a57bd0f544234e711f398b88908e27851163e26be92d0a96fb1943c05b17b59d6ed29d",
   "display_name": "Python 3.8.8 64-bit ('TorchPy': conda)"
  },
  "language_info": {
   "codemirror_mode": {
    "name": "ipython",
    "version": 3
   },
   "file_extension": ".py",
   "mimetype": "text/x-python",
   "name": "python",
   "nbconvert_exporter": "python",
   "pygments_lexer": "ipython3",
   "version": "3.8.8"
  },
  "metadata": {
   "interpreter": {
    "hash": "f544234e711f398b88908e27851163e26be92d0a96fb1943c05b17b59d6ed29d"
   }
  }
 },
 "nbformat": 4,
 "nbformat_minor": 2
}