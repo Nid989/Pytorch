{
 "cells": [
  {
   "cell_type": "markdown",
   "metadata": {},
   "source": [
    "# Neural networks with PyTorch\n",
    "\n",
    "Deep learning networks tend to be massive with dozens or hundreds of layers, that's where the term \"deep\" comes from. You can build one of these deep networks using only weight matrices as we did in the previous notebook, but in general it's very cumbersome and difficult to implement. PyTorch has a nice module `nn` that provides a nice way to efficiently build large neural networks."
   ]
  },
  {
   "cell_type": "code",
   "execution_count": 5,
   "metadata": {
    "collapsed": true
   },
   "outputs": [],
   "source": [
    "# Import necessary packages\n",
    "\n",
    "%matplotlib inline\n",
    "%config InlineBackend.figure_format = 'retina'\n",
    "\n",
    "import numpy as np\n",
    "import torch\n",
    "\n",
    "import helper\n",
    "\n",
    "import matplotlib.pyplot as plt"
   ]
  },
  {
   "cell_type": "markdown",
   "metadata": {},
   "source": [
    "\n",
    "Now we're going to build a larger network that can solve a (formerly) difficult problem, identifying text in an image. Here we'll use the MNIST dataset which consists of greyscale handwritten digits. Each image is 28x28 pixels, you can see a sample below\n",
    "\n",
    "<img src='assets/mnist.png'>\n",
    "\n",
    "Our goal is to build a neural network that can take one of these images and predict the digit in the image.\n",
    "\n",
    "First up, we need to get our dataset. This is provided through the `torchvision` package. The code below will download the MNIST dataset, then create training and test datasets for us. Don't worry too much about the details here, you'll learn more about this later."
   ]
  },
  {
   "cell_type": "code",
   "execution_count": 6,
   "metadata": {
    "collapsed": true
   },
   "outputs": [],
   "source": [
    "### Run this cell\n",
    "\n",
    "from torchvision import datasets, transforms\n",
    "\n",
    "# Define a transform to normalize the data\n",
    "transform = transforms.Compose([transforms.ToTensor(),\n",
    "                              transforms.Normalize((0.5,), (0.5,)),\n",
    "                              ])\n",
    "# Download and load the training data\n",
    "trainset = datasets.MNIST('~/.pytorch/MNIST_data/', download=True, train=True, transform=transform)\n",
    "trainloader = torch.utils.data.DataLoader(trainset, batch_size=64, shuffle=True)"
   ]
  },
  {
   "cell_type": "markdown",
   "metadata": {},
   "source": [
    "We have the training data loaded into `trainloader` and we make that an iterator with `iter(trainloader)`. Later, we'll use this to loop through the dataset for training, like\n",
    "\n",
    "```python\n",
    "for image, label in trainloader:\n",
    "    ## do things with images and labels\n",
    "```\n",
    "\n",
    "You'll notice I created the `trainloader` with a batch size of 64, and `shuffle=True`. The batch size is the number of images we get in one iteration from the data loader and pass through our network, often called a *batch*. And `shuffle=True` tells it to shuffle the dataset every time we start going through the data loader again. But here I'm just grabbing the first batch so we can check out the data. We can see below that `images` is just a tensor with size `(64, 1, 28, 28)`. So, 64 images per batch, 1 color channel, and 28x28 images."
   ]
  },
  {
   "cell_type": "code",
   "execution_count": 7,
   "metadata": {},
   "outputs": [
    {
     "output_type": "stream",
     "name": "stdout",
     "text": [
      "<class 'torch.Tensor'>\ntorch.Size([64, 1, 28, 28])\ntorch.Size([64])\n"
     ]
    }
   ],
   "source": [
    "dataiter = iter(trainloader)\n",
    "images, labels = dataiter.next()\n",
    "print(type(images))\n",
    "print(images.shape)\n",
    "print(labels.shape)"
   ]
  },
  {
   "cell_type": "markdown",
   "metadata": {},
   "source": [
    "This is what one of the images looks like. "
   ]
  },
  {
   "cell_type": "code",
   "execution_count": 8,
   "metadata": {},
   "outputs": [
    {
     "output_type": "display_data",
     "data": {
      "text/plain": "<Figure size 432x288 with 1 Axes>",
      "image/png": "[encoded data removed]"
     },
     "metadata": {
      "image/png": {
       "width": 251,
       "height": 248
      },
      "needs_background": "light"
     }
    }
   ],
   "source": [
    "plt.imshow(images[1].numpy().squeeze(), cmap='Greys_r');"
   ]
  },
  {
   "cell_type": "markdown",
   "metadata": {},
   "source": [
    "First, let's try to build a simple network for this dataset using weight matrices and matrix multiplications. Then, we'll see how to do it using PyTorch's `nn` module which provides a much more convenient and powerful method for defining network architectures.\n",
    "\n",
    "The networks you've seen so far are called *fully-connected* or *dense* networks. Each unit in one layer is connected to each unit in the next layer. In fully-connected networks, the input to each layer must be a one-dimensional vector (which can be stacked into a 2D tensor as a batch of multiple examples). However, our images are 28x28 2D tensors, so we need to convert them into 1D vectors. Thinking about sizes, we need to convert the batch of images with shape `(64, 1, 28, 28)` to a have a shape of `(64, 784)`, 784 is 28 times 28. This is typically called *flattening*, we flattened the 2D images into 1D vectors.\n",
    "\n",
    "Previously you built a network with one output unit. Here we need 10 output units, one for each digit. We want our network to predict the digit shown in an image, so what we'll do is calculate probabilities that the image is of any one digit or class. This ends up being a discrete probability distribution over the classes (digits) that tells us the most likely class for the image. That means we need 10 output units for the 10 classes (digits). We'll see how to convert the network output into a probability distribution next.\n",
    "\n",
    "> **Exercise:** Flatten the batch of images `images`. Then build a multi-layer network with 784 input units, 256 hidden units, and 10 output units using random tensors for the weights and biases. For now, use a sigmoid activation for the hidden layer. Leave the output layer without an activation, we'll add one that gives us a probability distribution next."
   ]
  },
  {
   "cell_type": "code",
   "execution_count": 10,
   "metadata": {
    "collapsed": true
   },
   "outputs": [],
   "source": [
    "## Solution\n",
    "def activation(x):\n",
    "    return 1/(1+torch.exp(-x))\n",
    "\n",
    "# Flatten the input images\n",
    "inputs = images.view(images.shape[0], -1)\n",
    "\n",
    "# Create parameters\n",
    "w1 = torch.randn(784, 256)\n",
    "b1 = torch.randn(256)\n",
    "\n",
    "w2 = torch.randn(256, 10)\n",
    "b2 = torch.randn(10)\n",
    "\n",
    "h = activation(torch.mm(inputs, w1) + b1)\n",
    "\n",
    "out = torch.mm(h, w2) + b2"
   ]
  },
  {
   "cell_type": "code",
   "execution_count": 11,
   "metadata": {},
   "outputs": [
    {
     "output_type": "stream",
     "name": "stdout",
     "text": [
      "tensor([[ -8.6963, -17.9470,  10.1728,  -0.7440,  19.8441,  -4.1434,  -5.9104,\n           1.2799,  10.7404, -12.1940],\n        [  5.0524,  -8.5463,   7.9933,  -9.7024,  13.9082,   3.9089,  -6.5381,\n          -4.0301,  10.9540,  -1.6097],\n        [  6.1452, -18.2427,   7.6384,  -8.3412,  16.8608, -11.6554,  -6.9391,\n          -8.1257,  12.1399, -17.9364],\n        [ -8.7482, -24.8833,  -0.2893, -10.5631,  13.5096,  -1.8334,  -6.5698,\n           2.9279,  -3.1334,  -3.8801],\n        [ -3.1228, -18.5257,  12.8602, -10.9920,  16.4530,  -0.6206,  -7.6724,\n           4.5816,   2.4860,  -8.3994],\n        [  0.0706,  -9.7606,   5.5037, -24.4471,  19.2824,   3.6604, -15.9727,\n          -6.4173,  -3.1323,  -5.2674],\n        [ -7.3171, -15.4090,  14.8938, -10.9378,  13.5780, -10.9827, -13.2410,\n          -4.6801,   2.7312, -19.9336],\n        [  2.7724,  -7.7517,  10.6625, -14.3089,  17.5188,  -5.2561, -10.9359,\n           1.8345,  10.6561,  -2.6847],\n        [ -1.2942, -10.3783,  18.9426,  -8.8769,   6.0294,  -2.5180, -13.5141,\n          11.5781,  15.0769,  -8.1777],\n        [  0.8321,   2.7692,   4.8276,  -8.6181,  15.7241,   4.2942,  -3.3762,\n         -11.8572,   3.7334, -17.9611],\n        [ -6.9413, -11.2552,   7.4402, -12.6404,  17.5988,   0.3285,   0.5604,\n         -11.9603,   2.2601,  -6.2315],\n        [ -5.5551,  -5.2404,  12.2661,  -8.6812,  23.5231,  -4.2003, -17.4658,\n          -9.0957,   9.0320, -13.7513],\n        [  7.0383,  -2.9919,  10.7432, -15.9389,  20.1426,   4.7917, -14.2527,\n           8.8069,   8.9458, -16.6809],\n        [-11.3572, -13.7528,   8.9012,  -8.5618,  13.7506,  -7.1177,  -9.3377,\n         -11.8830,   9.4635, -16.8596],\n        [ -8.0763, -15.5286,  12.8517, -10.7444,  17.8749,  -5.6919, -11.7358,\n           0.5185,  14.2063,  -3.2707],\n        [ -9.8820, -17.2504,  21.0469, -17.7762,  26.8932,  -3.8683,  -6.5601,\n          -4.8463,  -1.3985, -19.7413],\n        [ -2.3091,  -9.1058,  14.1482, -12.0699,  21.3883,   0.2831, -14.7802,\n          -4.5349,   9.8484, -10.8113],\n        [ -1.2587,   1.5661,   0.2755, -12.5721,  22.6978,  12.6474,  -4.4352,\n          -5.7911,   8.6358,  -9.5456],\n        [ -0.9222, -12.3708,  22.8838, -12.6658,  24.7215,  -8.7901,  -2.8174,\n          -7.8109,   6.9154,  -9.4773],\n        [  0.8850, -13.2796,  18.4391,   1.8915,  23.4126,  -0.3890, -11.8378,\n          -3.6305,  13.8953,  -7.8490],\n        [ -7.4165, -16.1982,  18.1188,  -4.3897,  20.7991,   2.8897,  -7.9789,\n          -4.9549,   5.2604,  -2.8282],\n        [ -9.4195, -10.2628,   7.3769,  -5.7392,  12.8859, -13.0985, -14.2259,\n          -7.7828,  14.8225, -10.9896],\n        [ -6.9046, -12.5246,  20.2825,  -7.1135,  23.9332,   1.5307, -21.9757,\n          -9.2242,  12.8270, -13.7200],\n        [  3.2537, -15.7446,  13.5576, -15.4064,  14.0845,  -9.3504, -14.2397,\n          -9.3057,   9.2649, -16.9510],\n        [-14.4807, -15.3720,  15.8578, -19.1579,  20.9858,   0.0930,  -9.8962,\n          -4.3587,   1.0101,  -5.0637],\n        [-10.1755,  -3.9510,   6.7461, -18.3438,  15.7230,  -3.6293,  -9.6922,\n           1.1995,   7.7892, -14.3807],\n        [  3.8381,  -4.5824,  14.3644, -15.9964,  21.5837,   5.4978,  -6.4182,\n          -1.6059,  10.9420,  -6.6674],\n        [ -0.5665, -14.6803,   9.5491,   2.4660,  16.5938,   0.8442, -10.6187,\n           1.9014,  11.5379, -15.2337],\n        [  1.8915, -16.4356,  11.9896, -10.0680,  15.4424,  -7.1298,  -4.3652,\n          -1.1324,   7.3850, -13.6331],\n        [ -4.6437,  -0.8334,  21.2861, -17.5719,  22.5728,   5.5374,  -4.9805,\n           0.4014,   8.0740,  -7.2024],\n        [ -3.0429, -11.5004,  10.1939,  -3.4942,  20.0981,  -1.5874, -14.6388,\n          -4.4650,   9.3253, -28.6735],\n        [ -5.5753, -17.1185,  10.5170, -15.7850,  18.0826,  -4.5406,  -7.8587,\n          -2.4955,   2.7145, -14.3483],\n        [ -3.1338,   5.9408,  11.0319,  -9.7627,  29.2050,   5.8270, -22.8939,\n           3.7385,   2.9064, -15.6389],\n        [  1.9381, -10.4197,   8.1569,  -7.2593,  12.3601,  -3.2869,  -8.2693,\n           4.2542,   8.6758, -10.6595],\n        [ -9.1609, -17.6948,  13.3087,  -1.1780,  19.6907,  -6.2608, -14.7647,\n           4.7958,   5.4207, -12.7267],\n        [ -1.5532,  -8.1499,   2.6992, -15.9459,  16.8405,   5.5251, -10.2412,\n          -6.2294,   2.1233, -12.3148],\n        [-15.0551, -19.1034,  11.7935,  -8.3580,  15.4905,  -8.7076, -18.7599,\n           7.8626,   6.0689,  -8.5601],\n        [ 10.0790,  -9.0823,  16.2091, -15.1618,  21.8903,  -0.8933, -15.7969,\n           0.9971,  15.1877, -18.6249],\n        [  2.2316,  -2.2357,   6.2298,  -8.6608,  13.9726,  -4.2806, -14.6718,\n          -6.1531,   4.1746,  -6.3167],\n        [  3.2459, -13.2015,  12.7952,  -1.2749,  19.7924,   3.8698, -11.7643,\n          -3.6496,  11.2875,  -8.5514],\n        [ -4.8784, -20.4745,  10.7670, -10.8082,  18.9213,   2.5424, -10.5626,\n           7.6360,  10.2726,  -8.6110],\n        [  2.0005,  -5.8833,  18.4422,  -6.9980,  19.8519,   2.5538, -20.9008,\n           1.6985,   7.6325, -18.6580],\n        [ -4.3135,  -7.6874,  11.2390,  -3.4120,  20.9622,   4.8383,  -8.6680,\n           1.5625,  14.1946,  -7.4061],\n        [  8.2090, -10.5438,  11.3483,  -9.4815,  23.1439,  -3.0489, -19.4555,\n          -8.9261,   3.7681, -23.8261],\n        [ -0.0726, -18.6903,  11.5869, -16.2755,  14.6311,   1.1803,  -6.8955,\n           2.1795,   6.5917, -22.3763],\n        [  6.2742, -14.1432,   6.3743,  -6.9703,  10.4744,  -8.1053,  -6.8893,\n           3.2622,  11.9280, -17.7982],\n        [  5.1935,  -0.8595,   7.8962,  -7.9333,  18.2781,  -4.1334,  -8.3943,\n          -6.4769,   4.8933,  -9.5052],\n        [  7.4647,  -5.5614,   5.2636,  -9.1094,  24.8777,   2.4169, -13.9028,\n           1.7450,   4.8477, -18.8623],\n        [ -5.0211, -20.0998,   9.9274,  -3.3538,  19.9223,  -2.6463, -15.5020,\n          -0.2610,   8.9871,  -1.9560],\n        [ -7.2701, -23.0074,  22.4076,  -8.0450,  27.7056,  -2.9810, -11.9864,\n          -1.7850,   4.8182,  -9.6302],\n        [  5.9152, -16.0885,  10.1887, -11.5334,  26.9551,  -7.2448, -23.3519,\n          -3.3392,   5.0754, -17.9160],\n        [ -6.1673, -26.6700,   8.8761, -12.5413,   3.4240,  -1.6820,   0.9241,\n           8.7078,  -0.1499, -17.7977],\n        [  0.8008, -13.5979,  12.7947,  -8.3735,  25.3320,   3.6114,  -6.7224,\n           8.4493,   1.0520,  -9.2585],\n        [ -4.9150, -19.0138,  14.3503,  -4.7463,   3.6439,  -8.4278,  -2.1998,\n          -1.4635,   4.2602, -11.1443],\n        [  1.5167, -22.9256,  17.6141,  -5.7363,  23.6465,  -9.6540, -10.2237,\n          -0.8926,   2.4469,  -6.3900],\n        [ -0.8723, -22.3800,  16.5846,  -2.5562,  17.5288,  -6.0554,  -7.5807,\n          -5.4991,   8.7368,  -3.0858],\n        [ -5.5600, -16.7624,  12.5099, -11.4025,  27.6461,  -4.6179, -15.6165,\n          -1.3304,  11.4545, -19.6876],\n        [ -1.1295, -19.2323,   6.5911,   0.4842,  23.5987,  -9.9364, -10.5478,\n          -7.7799,   8.6575, -12.5572],\n        [ 11.0472, -20.2447,  15.3892,  -8.3290,   9.9702,  -8.7677,  -0.7866,\n          -6.0360,   6.4606, -15.6759],\n        [ -1.7414,  -8.4735,   3.7991,  -8.7314,  19.6580,   3.7308, -10.2856,\n          -2.5218,   3.8207, -12.9934],\n        [ -1.2321, -14.3348,  10.2334,   1.9535,  20.3810,  -9.0146, -17.6586,\n          -2.8074,   4.3441,  -9.8025],\n        [  5.4539,  -6.2020,   8.6406, -14.5465,  22.8920,  -2.8261, -14.8002,\n          -4.3918,  10.1147, -13.9193],\n        [ -8.8329, -13.4606,   4.9908, -15.3955,  12.1214,   5.0471,  -5.3106,\n         -22.9639,   5.7493, -11.0674],\n        [ -7.0892,  -4.6749,   0.4798, -10.7045,  22.5539,  -0.9016,  -6.6039,\n          -3.6718,  12.5915, -21.4944]])\n"
     ]
    }
   ],
   "source": [
    "print(out)"
   ]
  },
  {
   "cell_type": "markdown",
   "metadata": {},
   "source": [
    "Now we have 10 outputs for our network. We want to pass in an image to our network and get out a probability distribution over the classes that tells us the likely class(es) the image belongs to. Something that looks like this:\n",
    "<img src='assets/image_distribution.png' width=500px>\n",
    "\n",
    "Here we see that the probability for each class is roughly the same. This is representing an untrained network, it hasn't seen any data yet so it just returns a uniform distribution with equal probabilities for each class.\n",
    "\n",
    "To calculate this probability distribution, we often use the [**softmax** function](https://en.wikipedia.org/wiki/Softmax_function). Mathematically this looks like\n",
    "\n",
    "$$\n",
    "\\Large \\sigma(x_i) = \\cfrac{e^{x_i}}{\\sum_k^K{e^{x_k}}}\n",
    "$$\n",
    "\n",
    "What this does is squish each input $x_i$ between 0 and 1 and normalizes the values to give you a proper probability distribution where the probabilites sum up to one.\n",
    "\n",
    "> **Exercise:** Implement a function `softmax` that performs the softmax calculation and returns probability distributions for each example in the batch. Note that you'll need to pay attention to the shapes when doing this. If you have a tensor `a` with shape `(64, 10)` and a tensor `b` with shape `(64,)`, doing `a/b` will give you an error because PyTorch will try to do the division across the columns (called broadcasting) but you'll get a size mismatch. The way to think about this is for each of the 64 examples, you only want to divide by one value, the sum in the denominator. So you need `b` to have a shape of `(64, 1)`. This way PyTorch will divide the 10 values in each row of `a` by the one value in each row of `b`. Pay attention to how you take the sum as well. You'll need to define the `dim` keyword in `torch.sum`. Setting `dim=0` takes the sum across the rows while `dim=1` takes the sum across the columns."
   ]
  },
  {
   "cell_type": "code",
   "execution_count": 24,
   "metadata": {},
   "outputs": [
    {
     "output_type": "stream",
     "name": "stdout",
     "text": [
      "torch.Size([64])\ntorch.Size([64, 1])\n"
     ]
    }
   ],
   "source": [
    "res = torch.sum(torch.exp(out), dim=1)\n",
    "print(res.shape)\n",
    "res = res.view(-1, 1)\n",
    "print(res.shape)"
   ]
  },
  {
   "cell_type": "code",
   "execution_count": 14,
   "metadata": {},
   "outputs": [
    {
     "output_type": "stream",
     "name": "stdout",
     "text": [
      "torch.Size([64, 10])\ntensor([1.0000, 1.0000, 1.0000, 1.0000, 1.0000, 1.0000, 1.0000, 1.0000, 1.0000,\n        1.0000, 1.0000, 1.0000, 1.0000, 1.0000, 1.0000, 1.0000, 1.0000, 1.0000,\n        1.0000, 1.0000, 1.0000, 1.0000, 1.0000, 1.0000, 1.0000, 1.0000, 1.0000,\n        1.0000, 1.0000, 1.0000, 1.0000, 1.0000, 1.0000, 1.0000, 1.0000, 1.0000,\n        1.0000, 1.0000, 1.0000, 1.0000, 1.0000, 1.0000, 1.0000, 1.0000, 1.0000,\n        1.0000, 1.0000, 1.0000, 1.0000, 1.0000, 1.0000, 1.0000, 1.0000, 1.0000,\n        1.0000, 1.0000, 1.0000, 1.0000, 1.0000, 1.0000, 1.0000, 1.0000, 1.0000,\n        1.0000])\n"
     ]
    }
   ],
   "source": [
    "## Solution\n",
    "def softmax(x):\n",
    "    return torch.exp(x)/torch.sum(torch.exp(x), dim=1).view(-1, 1)\n",
    "\n",
    "probabilities = softmax(out)\n",
    "\n",
    "# Does it have the right shape? Should be (64, 10)\n",
    "print(probabilities.shape)\n",
    "# Does it sum to 1?\n",
    "print(probabilities.sum(dim=1))"
   ]
  },
  {
   "cell_type": "markdown",
   "metadata": {},
   "source": [
    "## Building networks with PyTorch\n",
    "\n",
    "PyTorch provides a module `nn` that makes building networks much simpler. Here I'll show you how to build the same one as above with 784 inputs, 256 hidden units, 10 output units and a softmax output."
   ]
  },
  {
   "cell_type": "code",
   "execution_count": 25,
   "metadata": {
    "collapsed": true
   },
   "outputs": [],
   "source": [
    "from torch import nn"
   ]
  },
  {
   "cell_type": "code",
   "execution_count": 28,
   "metadata": {
    "collapsed": true
   },
   "outputs": [],
   "source": [
    "class Network(nn.Module):\n",
    "    def __init__(self):\n",
    "        super().__init__()\n",
    "        \n",
    "        # Inputs to hidden layer linear transformation\n",
    "        self.hidden = nn.Linear(784, 256)\n",
    "        # Output layer, 10 units - one for each digit\n",
    "        self.output = nn.Linear(256, 10)\n",
    "        \n",
    "        # Define sigmoid activation and softmax output \n",
    "        self.sigmoid = nn.Sigmoid()\n",
    "        self.softmax = nn.Softmax(dim=1)\n",
    "        \n",
    "    def forward(self, x):\n",
    "        # Pass the input tensor through each of our operations\n",
    "        x = self.hidden(x)\n",
    "        x = self.sigmoid(x)\n",
    "        x = self.output(x)\n",
    "        x = self.softmax(x)\n",
    "        \n",
    "        return x"
   ]
  },
  {
   "cell_type": "markdown",
   "metadata": {},
   "source": [
    "Let's go through this bit by bit.\n",
    "\n",
    "```python\n",
    "class Network(nn.Module):\n",
    "```\n",
    "\n",
    "Here we're inheriting from `nn.Module`. Combined with `super().__init__()` this creates a class that tracks the architecture and provides a lot of useful methods and attributes. It is mandatory to inherit from `nn.Module` when you're creating a class for your network. The name of the class itself can be anything.\n",
    "\n",
    "```python\n",
    "self.hidden = nn.Linear(784, 256)\n",
    "```\n",
    "\n",
    "This line creates a module for a linear transformation, $x\\mathbf{W} + b$, with 784 inputs and 256 outputs and assigns it to `self.hidden`. The module automatically creates the weight and bias tensors which we'll use in the `forward` method. You can access the weight and bias tensors once the network (`net`) is created with `net.hidden.weight` and `net.hidden.bias`.\n",
    "\n",
    "```python\n",
    "self.output = nn.Linear(256, 10)\n",
    "```\n",
    "\n",
    "Similarly, this creates another linear transformation with 256 inputs and 10 outputs.\n",
    "\n",
    "```python\n",
    "self.sigmoid = nn.Sigmoid()\n",
    "self.softmax = nn.Softmax(dim=1)\n",
    "```\n",
    "\n",
    "Here I defined operations for the sigmoid activation and softmax output. Setting `dim=1` in `nn.Softmax(dim=1)` calculates softmax across the columns.\n",
    "\n",
    "```python\n",
    "def forward(self, x):\n",
    "```\n",
    "\n",
    "PyTorch networks created with `nn.Module` must have a `forward` method defined. It takes in a tensor `x` and passes it through the operations you defined in the `__init__` method.\n",
    "\n",
    "```python\n",
    "x = self.hidden(x)\n",
    "x = self.sigmoid(x)\n",
    "x = self.output(x)\n",
    "x = self.softmax(x)\n",
    "```\n",
    "\n",
    "Here the input tensor `x` is passed through each operation a reassigned to `x`. We can see that the input tensor goes through the hidden layer, then a sigmoid function, then the output layer, and finally the softmax function. It doesn't matter what you name the variables here, as long as the inputs and outputs of the operations match the network architecture you want to build. The order in which you define things in the `__init__` method doesn't matter, but you'll need to sequence the operations correctly in the `forward` method.\n",
    "\n",
    "Now we can create a `Network` object."
   ]
  },
  {
   "cell_type": "code",
   "execution_count": 29,
   "metadata": {},
   "outputs": [
    {
     "output_type": "execute_result",
     "data": {
      "text/plain": [
       "Network(\n",
       "  (hidden): Linear(in_features=784, out_features=256, bias=True)\n",
       "  (output): Linear(in_features=256, out_features=10, bias=True)\n",
       "  (sigmoid): Sigmoid()\n",
       "  (softmax): Softmax(dim=1)\n",
       ")"
      ]
     },
     "metadata": {},
     "execution_count": 29
    }
   ],
   "source": [
    "# Create the network and look at its text representation\n",
    "model = Network()\n",
    "model"
   ]
  },
  {
   "cell_type": "markdown",
   "metadata": {},
   "source": [
    "You can define the network somewhat more concisely and clearly using the `torch.nn.functional` module. This is the most common way you'll see networks defined as many operations are simple element-wise functions. We normally import this module as `F`, `import torch.nn.functional as F`."
   ]
  },
  {
   "cell_type": "code",
   "execution_count": 30,
   "metadata": {
    "collapsed": true
   },
   "outputs": [],
   "source": [
    "import torch.nn.functional as F\n",
    "\n",
    "class Network(nn.Module):\n",
    "    def __init__(self):\n",
    "        super().__init__()\n",
    "        # Inputs to hidden layer linear transformation\n",
    "        self.hidden = nn.Linear(784, 256)\n",
    "        # Output layer, 10 units - one for each digit\n",
    "        self.output = nn.Linear(256, 10)\n",
    "        \n",
    "    def forward(self, x):\n",
    "        # Hidden layer with sigmoid activation\n",
    "        x = F.sigmoid(self.hidden(x))\n",
    "        # Output layer with softmax activation\n",
    "        x = F.softmax(self.output(x), dim=1)\n",
    "        \n",
    "        return x"
   ]
  },
  {
   "cell_type": "markdown",
   "metadata": {},
   "source": [
    "### Activation functions\n",
    "\n",
    "So far we've only been looking at the sigmoid and softmax activation functions, but in general any function can be used as an activation function. The only requirement is that for a network to approximate a non-linear function, the activation functions must be non-linear. Here are a few more examples of common activation functions: Tanh (hyperbolic tangent), and ReLU (rectified linear unit).\n",
    "\n",
    "<img src=\"assets/activation.png\" width=700px>\n",
    "\n",
    "In practice, the ReLU function is used almost exclusively as the activation function for hidden layers."
   ]
  },
  {
   "cell_type": "markdown",
   "metadata": {},
   "source": [
    "### Your Turn to Build a Network\n",
    "\n",
    "<img src=\"assets/mlp_mnist.png\" width=600px>\n",
    "\n",
    "> **Exercise:** Create a network with 784 input units, a hidden layer with 128 units and a ReLU activation, then a hidden layer with 64 units and a ReLU activation, and finally an output layer with a softmax activation as shown above. You can use a ReLU activation with the `nn.ReLU` module or `F.relu` function.\n",
    "\n",
    "It's good practice to name your layers by their type of network, for instance 'fc' to represent a fully-connected layer. As you code your solution, use `fc1`, `fc2`, and `fc3` as your layer names."
   ]
  },
  {
   "cell_type": "code",
   "execution_count": 42,
   "metadata": {
    "scrolled": true
   },
   "outputs": [
    {
     "output_type": "execute_result",
     "data": {
      "text/plain": [
       "Network(\n",
       "  (fc1): Linear(in_features=784, out_features=128, bias=True)\n",
       "  (fc2): Linear(in_features=128, out_features=64, bias=True)\n",
       "  (fc3): Linear(in_features=64, out_features=10, bias=True)\n",
       ")"
      ]
     },
     "metadata": {},
     "execution_count": 42
    }
   ],
   "source": [
    "## Solution\n",
    "\n",
    "class Network(nn.Module):\n",
    "    def __init__(self):\n",
    "        super().__init__()\n",
    "        # Defining the layers, 128, 64, 10 units each\n",
    "        self.fc1 = nn.Linear(784, 128)\n",
    "        self.fc2 = nn.Linear(128, 64)\n",
    "        # Output layer, 10 units - one for each digit\n",
    "        self.fc3 = nn.Linear(64, 10)\n",
    "        \n",
    "    def forward(self, x):\n",
    "        ''' Forward pass through the network, returns the output logits '''\n",
    "        \n",
    "        x = self.fc1(x)\n",
    "        x = F.relu(x)\n",
    "        x = self.fc2(x)\n",
    "        x = F.relu(x)\n",
    "        x = self.fc3(x)\n",
    "        x = F.softmax(x, dim=1)\n",
    "        \n",
    "        return x\n",
    "\n",
    "model = Network()\n",
    "model"
   ]
  },
  {
   "cell_type": "markdown",
   "metadata": {},
   "source": [
    "### Initializing weights and biases\n",
    "\n",
    "The weights and biases are automatically initialized for you, but it's possible to customize how they are initialized. The weights and biases are tensors attached to the layer you defined, you can get them with `model.fc1.weight` for instance."
   ]
  },
  {
   "cell_type": "code",
   "execution_count": 43,
   "metadata": {},
   "outputs": [
    {
     "output_type": "stream",
     "name": "stdout",
     "text": [
      "Parameter containing:\ntensor([[ 0.0015,  0.0036,  0.0228,  ...,  0.0154, -0.0121, -0.0029],\n        [ 0.0155,  0.0186,  0.0189,  ...,  0.0020,  0.0157, -0.0322],\n        [-0.0211,  0.0043, -0.0293,  ..., -0.0234, -0.0083,  0.0249],\n        ...,\n        [ 0.0355,  0.0136, -0.0103,  ...,  0.0037, -0.0338, -0.0165],\n        [ 0.0226,  0.0016,  0.0217,  ..., -0.0094, -0.0268,  0.0135],\n        [-0.0238,  0.0159, -0.0050,  ..., -0.0269, -0.0331, -0.0307]],\n       requires_grad=True)\nParameter containing:\ntensor([-7.7511e-03, -5.3965e-03,  1.9091e-02,  1.7169e-02, -3.5360e-02,\n         1.0624e-02,  1.6680e-02, -2.8366e-02,  1.0829e-02,  1.9332e-02,\n        -1.7064e-02, -9.8761e-04,  9.8025e-03,  2.5051e-02,  2.4752e-02,\n         2.7740e-03,  5.8868e-03,  3.5424e-02, -2.4385e-02, -3.0106e-02,\n        -1.0478e-02,  1.8318e-02,  3.0840e-02, -2.9380e-02,  3.2657e-02,\n        -2.8715e-02, -2.7677e-02,  2.2192e-02,  2.9469e-02,  1.5185e-02,\n        -1.0009e-02,  1.7947e-02,  1.9457e-02,  1.4576e-02,  1.9008e-02,\n        -4.4435e-04,  2.7471e-02, -3.2554e-02,  3.1880e-02,  2.0100e-02,\n         3.0939e-02,  1.5919e-02, -7.0820e-03, -8.4581e-04,  3.2229e-02,\n         2.3492e-02,  1.7703e-02,  3.4035e-02, -2.1218e-02,  2.0874e-02,\n         2.6332e-02,  1.2930e-02,  1.5087e-02,  2.8155e-02, -1.9052e-03,\n        -4.0429e-03,  1.8691e-02,  2.7867e-02,  7.2123e-03, -1.1684e-02,\n         1.7245e-02,  1.2121e-02, -3.1647e-02, -1.8445e-02,  3.0434e-02,\n         4.3133e-03,  2.5532e-02, -1.6009e-02,  1.6985e-02,  3.4973e-02,\n        -4.0514e-03,  2.2753e-02,  1.5922e-02,  3.5427e-02,  1.2029e-02,\n         2.5719e-02, -2.9827e-02,  1.6586e-04,  2.0851e-02, -2.7764e-02,\n        -1.0939e-02, -1.4431e-03, -3.5295e-02,  1.2701e-02, -7.1993e-04,\n         2.3239e-02,  2.3353e-02, -2.5349e-02, -2.4737e-02, -1.1497e-02,\n         1.4690e-02, -1.8895e-02, -1.2517e-02,  6.0646e-03,  1.7447e-03,\n        -2.4357e-03,  1.9465e-02,  3.0577e-02, -6.7633e-05, -3.2095e-02,\n         8.8129e-03, -3.4951e-02, -1.3891e-02,  3.0704e-03,  3.1265e-02,\n        -8.4910e-03, -1.5047e-02,  2.7028e-02, -1.3674e-02,  5.7022e-03,\n         2.2720e-02, -1.9725e-02,  2.0126e-02,  3.1378e-03,  2.2084e-02,\n         3.3148e-02, -2.9750e-02, -2.6906e-02, -1.5261e-02, -1.9399e-02,\n         3.1763e-02,  3.4919e-02, -7.5814e-03,  3.0857e-02,  1.9237e-02,\n         2.8430e-02,  2.3274e-03,  3.1002e-03], requires_grad=True)\n"
     ]
    }
   ],
   "source": [
    "print(model.fc1.weight)\n",
    "print(model.fc1.bias)"
   ]
  },
  {
   "cell_type": "markdown",
   "metadata": {},
   "source": [
    "For custom initialization, we want to modify these tensors in place. These are actually autograd *Variables*, so we need to get back the actual tensors with `model.fc1.weight.data`. Once we have the tensors, we can fill them with zeros (for biases) or random normal values."
   ]
  },
  {
   "cell_type": "code",
   "execution_count": 44,
   "metadata": {},
   "outputs": [
    {
     "output_type": "execute_result",
     "data": {
      "text/plain": [
       "tensor([0., 0., 0., 0., 0., 0., 0., 0., 0., 0., 0., 0., 0., 0., 0., 0., 0., 0., 0., 0., 0., 0., 0., 0.,\n",
       "        0., 0., 0., 0., 0., 0., 0., 0., 0., 0., 0., 0., 0., 0., 0., 0., 0., 0., 0., 0., 0., 0., 0., 0.,\n",
       "        0., 0., 0., 0., 0., 0., 0., 0., 0., 0., 0., 0., 0., 0., 0., 0., 0., 0., 0., 0., 0., 0., 0., 0.,\n",
       "        0., 0., 0., 0., 0., 0., 0., 0., 0., 0., 0., 0., 0., 0., 0., 0., 0., 0., 0., 0., 0., 0., 0., 0.,\n",
       "        0., 0., 0., 0., 0., 0., 0., 0., 0., 0., 0., 0., 0., 0., 0., 0., 0., 0., 0., 0., 0., 0., 0., 0.,\n",
       "        0., 0., 0., 0., 0., 0., 0., 0.])"
      ]
     },
     "metadata": {},
     "execution_count": 44
    }
   ],
   "source": [
    "# Set biases to all zeros\n",
    "model.fc1.bias.data.fill_(0)"
   ]
  },
  {
   "cell_type": "code",
   "execution_count": 47,
   "metadata": {},
   "outputs": [
    {
     "output_type": "execute_result",
     "data": {
      "text/plain": [
       "tensor([[ 0.0054, -0.0076,  0.0120,  ..., -0.0038,  0.0031, -0.0141],\n",
       "        [ 0.0003, -0.0207,  0.0045,  ...,  0.0093, -0.0195,  0.0055],\n",
       "        [-0.0088, -0.0154, -0.0065,  ...,  0.0049, -0.0241,  0.0122],\n",
       "        ...,\n",
       "        [ 0.0157, -0.0042, -0.0131,  ..., -0.0071,  0.0091,  0.0014],\n",
       "        [-0.0028,  0.0124, -0.0109,  ..., -0.0092, -0.0050, -0.0075],\n",
       "        [-0.0056, -0.0042,  0.0048,  ..., -0.0098,  0.0100,  0.0079]])"
      ]
     },
     "metadata": {},
     "execution_count": 47
    }
   ],
   "source": [
    "# sample from random normal with standard dev = 0.01\n",
    "model.fc1.weight.data.normal_(std=0.01)"
   ]
  },
  {
   "cell_type": "markdown",
   "metadata": {},
   "source": [
    "### Forward pass\n",
    "\n",
    "Now that we have a network, let's see what happens when we pass in an image."
   ]
  },
  {
   "cell_type": "code",
   "execution_count": 48,
   "metadata": {},
   "outputs": [
    {
     "output_type": "display_data",
     "data": {
      "text/plain": "<Figure size 432x648 with 2 Axes>",
      "image/png": "[encoded data removed]"
     },
     "metadata": {
      "image/png": {
       "width": 424,
       "height": 235
      },
      "needs_background": "light"
     }
    }
   ],
   "source": [
    "# Grab some data \n",
    "dataiter = iter(trainloader)\n",
    "images, labels = dataiter.next()\n",
    "\n",
    "# Resize images into a 1D vector, new shape is (batch size, color channels, image pixels) \n",
    "images.resize_(64, 1, 784)\n",
    "# or images.resize_(images.shape[0], 1, 784) to automatically get batch size\n",
    "\n",
    "# Forward pass through the network\n",
    "img_idx = 0\n",
    "ps = model.forward(images[img_idx,:])\n",
    "\n",
    "img = images[img_idx]\n",
    "helper.view_classify(img.view(1, 28, 28), ps)"
   ]
  },
  {
   "cell_type": "markdown",
   "metadata": {},
   "source": [
    "As you can see above, our network has basically no idea what this digit is. It's because we haven't trained it yet, all the weights are random!\n",
    "\n",
    "### Using `nn.Sequential`\n",
    "\n",
    "PyTorch provides a convenient way to build networks like this where a tensor is passed sequentially through operations, `nn.Sequential` ([documentation](https://pytorch.org/docs/master/nn.html#torch.nn.Sequential)). Using this to build the equivalent network:"
   ]
  },
  {
   "cell_type": "code",
   "execution_count": 49,
   "metadata": {},
   "outputs": [
    {
     "output_type": "stream",
     "name": "stdout",
     "text": [
      "Sequential(\n  (0): Linear(in_features=784, out_features=128, bias=True)\n  (1): ReLU()\n  (2): Linear(in_features=128, out_features=64, bias=True)\n  (3): ReLU()\n  (4): Linear(in_features=64, out_features=10, bias=True)\n  (5): Softmax(dim=1)\n)\n"
     ]
    },
    {
     "output_type": "display_data",
     "data": {
      "text/plain": "<Figure size 432x648 with 2 Axes>",
      "image/png": "[encoded data removed]"
     },
     "metadata": {
      "image/png": {
       "width": 424,
       "height": 235
      },
      "needs_background": "light"
     }
    }
   ],
   "source": [
    "# Hyperparameters for our network\n",
    "input_size = 784\n",
    "hidden_sizes = [128, 64]\n",
    "output_size = 10\n",
    "\n",
    "# Build a feed-forward network\n",
    "model = nn.Sequential(nn.Linear(input_size, hidden_sizes[0]),\n",
    "                      nn.ReLU(),\n",
    "                      nn.Linear(hidden_sizes[0], hidden_sizes[1]),\n",
    "                      nn.ReLU(),\n",
    "                      nn.Linear(hidden_sizes[1], output_size),\n",
    "                      nn.Softmax(dim=1))\n",
    "print(model)\n",
    "\n",
    "# Forward pass through the network and display output\n",
    "images, labels = next(iter(trainloader))\n",
    "images.resize_(images.shape[0], 1, 784)\n",
    "ps = model.forward(images[0,:])\n",
    "helper.view_classify(images[0].view(1, 28, 28), ps)"
   ]
  },
  {
   "cell_type": "markdown",
   "metadata": {},
   "source": [
    "The operations are availble by passing in the appropriate index. For example, if you want to get first Linear operation and look at the weights, you'd use `model[0]`."
   ]
  },
  {
   "cell_type": "code",
   "execution_count": 50,
   "metadata": {},
   "outputs": [
    {
     "output_type": "stream",
     "name": "stdout",
     "text": [
      "Linear(in_features=784, out_features=128, bias=True)\n"
     ]
    },
    {
     "output_type": "execute_result",
     "data": {
      "text/plain": [
       "Parameter containing:\n",
       "tensor([[ 0.0033,  0.0261,  0.0322,  ..., -0.0182,  0.0292, -0.0029],\n",
       "        [-0.0130,  0.0314,  0.0305,  ..., -0.0207, -0.0041, -0.0243],\n",
       "        [-0.0038,  0.0039, -0.0190,  ..., -0.0188,  0.0096, -0.0010],\n",
       "        ...,\n",
       "        [ 0.0168, -0.0330,  0.0055,  ...,  0.0278,  0.0142, -0.0135],\n",
       "        [-0.0170, -0.0022,  0.0151,  ...,  0.0298,  0.0098,  0.0286],\n",
       "        [ 0.0071, -0.0074,  0.0222,  ..., -0.0232, -0.0207, -0.0317]],\n",
       "       requires_grad=True)"
      ]
     },
     "metadata": {},
     "execution_count": 50
    }
   ],
   "source": [
    "print(model[0])\n",
    "model[0].weight"
   ]
  },
  {
   "cell_type": "markdown",
   "metadata": {},
   "source": [
    "You can also pass in an `OrderedDict` to name the individual layers and operations, instead of using incremental integers. Note that dictionary keys must be unique, so _each operation must have a different name_."
   ]
  },
  {
   "cell_type": "code",
   "execution_count": 51,
   "metadata": {},
   "outputs": [
    {
     "output_type": "execute_result",
     "data": {
      "text/plain": [
       "Sequential(\n",
       "  (fc1): Linear(in_features=784, out_features=128, bias=True)\n",
       "  (relu1): ReLU()\n",
       "  (fc2): Linear(in_features=128, out_features=64, bias=True)\n",
       "  (relu2): ReLU()\n",
       "  (output): Linear(in_features=64, out_features=10, bias=True)\n",
       "  (softmax): Softmax(dim=1)\n",
       ")"
      ]
     },
     "metadata": {},
     "execution_count": 51
    }
   ],
   "source": [
    "from collections import OrderedDict\n",
    "model = nn.Sequential(OrderedDict([\n",
    "                      ('fc1', nn.Linear(input_size, hidden_sizes[0])),\n",
    "                      ('relu1', nn.ReLU()),\n",
    "                      ('fc2', nn.Linear(hidden_sizes[0], hidden_sizes[1])),\n",
    "                      ('relu2', nn.ReLU()),\n",
    "                      ('output', nn.Linear(hidden_sizes[1], output_size)),\n",
    "                      ('softmax', nn.Softmax(dim=1))]))\n",
    "model"
   ]
  },
  {
   "cell_type": "markdown",
   "metadata": {},
   "source": [
    "Now you can access layers either by integer or the name"
   ]
  },
  {
   "cell_type": "code",
   "execution_count": 52,
   "metadata": {},
   "outputs": [
    {
     "output_type": "stream",
     "name": "stdout",
     "text": [
      "Linear(in_features=784, out_features=128, bias=True)\nLinear(in_features=784, out_features=128, bias=True)\n"
     ]
    }
   ],
   "source": [
    "print(model[0])\n",
    "print(model.fc1)"
   ]
  },
  {
   "cell_type": "markdown",
   "metadata": {},
   "source": [
    "In the next notebook, we'll see how we can train a neural network to accuractly predict the numbers appearing in the MNIST images."
   ]
  }
 ],
 "metadata": {
  "kernelspec": {
   "name": "python388jvsc74a57bd0f544234e711f398b88908e27851163e26be92d0a96fb1943c05b17b59d6ed29d",
   "display_name": "Python 3.8.8 64-bit ('TorchPy': conda)"
  },
  "language_info": {
   "codemirror_mode": {
    "name": "ipython",
    "version": 3
   },
   "file_extension": ".py",
   "mimetype": "text/x-python",
   "name": "python",
   "nbconvert_exporter": "python",
   "pygments_lexer": "ipython3",
   "version": "3.8.8"
  },
  "metadata": {
   "interpreter": {
    "hash": "f544234e711f398b88908e27851163e26be92d0a96fb1943c05b17b59d6ed29d"
   }
  }
 },
 "nbformat": 4,
 "nbformat_minor": 2
}