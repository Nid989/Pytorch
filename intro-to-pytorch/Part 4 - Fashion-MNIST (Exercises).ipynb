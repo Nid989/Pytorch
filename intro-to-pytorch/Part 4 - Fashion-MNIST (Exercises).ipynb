{
 "cells": [
  {
   "cell_type": "markdown",
   "metadata": {},
   "source": [
    "# Classifying Fashion-MNIST\n",
    "\n",
    "Now it's your turn to build and train a neural network. You'll be using the [Fashion-MNIST dataset](https://github.com/zalandoresearch/fashion-mnist), a drop-in replacement for the MNIST dataset. MNIST is actually quite trivial with neural networks where you can easily achieve better than 97% accuracy. Fashion-MNIST is a set of 28x28 greyscale images of clothes. It's more complex than MNIST, so it's a better representation of the actual performance of your network, and a better representation of datasets you'll use in the real world.\n",
    "\n",
    "<img src='assets/fashion-mnist-sprite.png' width=500px>\n",
    "\n",
    "In this notebook, you'll build your own neural network. For the most part, you could just copy and paste the code from Part 3, but you wouldn't be learning. It's important for you to write the code yourself and get it to work. Feel free to consult the previous notebooks though as you work through this.\n",
    "\n",
    "First off, let's load the dataset through torchvision."
   ]
  },
  {
   "cell_type": "code",
   "execution_count": 1,
   "metadata": {},
   "outputs": [
    {
     "output_type": "stream",
     "name": "stdout",
     "text": [
      "Downloading http://fashion-mnist.s3-website.eu-central-1.amazonaws.com/train-images-idx3-ubyte.gz\n",
      "Downloading http://fashion-mnist.s3-website.eu-central-1.amazonaws.com/train-images-idx3-ubyte.gz to C:\\Users\\nidbh/.pytorch/F_MNIST_data/FashionMNIST\\raw\\train-images-idx3-ubyte.gz\n",
      "100.0%\n",
      "Extracting C:\\Users\\nidbh/.pytorch/F_MNIST_data/FashionMNIST\\raw\\train-images-idx3-ubyte.gz to C:\\Users\\nidbh/.pytorch/F_MNIST_data/FashionMNIST\\raw\n",
      "\n",
      "Downloading http://fashion-mnist.s3-website.eu-central-1.amazonaws.com/train-labels-idx1-ubyte.gz\n",
      "Downloading http://fashion-mnist.s3-website.eu-central-1.amazonaws.com/train-labels-idx1-ubyte.gz to C:\\Users\\nidbh/.pytorch/F_MNIST_data/FashionMNIST\\raw\\train-labels-idx1-ubyte.gz\n",
      "100.6%\n",
      "Extracting C:\\Users\\nidbh/.pytorch/F_MNIST_data/FashionMNIST\\raw\\train-labels-idx1-ubyte.gz to C:\\Users\\nidbh/.pytorch/F_MNIST_data/FashionMNIST\\raw\n",
      "\n",
      "Downloading http://fashion-mnist.s3-website.eu-central-1.amazonaws.com/t10k-images-idx3-ubyte.gz\n",
      "Downloading http://fashion-mnist.s3-website.eu-central-1.amazonaws.com/t10k-images-idx3-ubyte.gz to C:\\Users\\nidbh/.pytorch/F_MNIST_data/FashionMNIST\\raw\\t10k-images-idx3-ubyte.gz\n",
      "100.0%\n",
      "Extracting C:\\Users\\nidbh/.pytorch/F_MNIST_data/FashionMNIST\\raw\\t10k-images-idx3-ubyte.gz to C:\\Users\\nidbh/.pytorch/F_MNIST_data/FashionMNIST\\raw\n",
      "\n",
      "Downloading http://fashion-mnist.s3-website.eu-central-1.amazonaws.com/t10k-labels-idx1-ubyte.gz\n",
      "Downloading http://fashion-mnist.s3-website.eu-central-1.amazonaws.com/t10k-labels-idx1-ubyte.gz to C:\\Users\\nidbh/.pytorch/F_MNIST_data/FashionMNIST\\raw\\t10k-labels-idx1-ubyte.gz\n",
      "119.3%\n",
      "C:\\Users\\nidbh\\anaconda3\\envs\\TorchPy\\lib\\site-packages\\torchvision\\datasets\\mnist.py:502: UserWarning: The given NumPy array is not writeable, and PyTorch does not support non-writeable tensors. This means you can write to the underlying (supposedly non-writeable) NumPy array using the tensor. You may want to copy the array to protect its data or make it writeable before converting it to a tensor. This type of warning will be suppressed for the rest of this program. (Triggered internally at  ..\\torch\\csrc\\utils\\tensor_numpy.cpp:143.)\n",
      "  return torch.from_numpy(parsed.astype(m[2], copy=False)).view(*s)\n",
      "Extracting C:\\Users\\nidbh/.pytorch/F_MNIST_data/FashionMNIST\\raw\\t10k-labels-idx1-ubyte.gz to C:\\Users\\nidbh/.pytorch/F_MNIST_data/FashionMNIST\\raw\n",
      "\n",
      "Processing...\n",
      "Done!\n"
     ]
    }
   ],
   "source": [
    "import torch\n",
    "from torchvision import datasets, transforms\n",
    "import helper\n",
    "\n",
    "# Define a transform to normalize the data\n",
    "transform = transforms.Compose([transforms.ToTensor(),\n",
    "                                transforms.Normalize((0.5,), (0.5,))])\n",
    "# Download and load the training data\n",
    "trainset = datasets.FashionMNIST('~/.pytorch/F_MNIST_data/', download=True, train=True, transform=transform)\n",
    "trainloader = torch.utils.data.DataLoader(trainset, batch_size=64, shuffle=True)\n",
    "\n",
    "# Download and load the test data\n",
    "testset = datasets.FashionMNIST('~/.pytorch/F_MNIST_data/', download=True, train=False, transform=transform)\n",
    "testloader = torch.utils.data.DataLoader(testset, batch_size=64, shuffle=True)"
   ]
  },
  {
   "cell_type": "markdown",
   "metadata": {},
   "source": [
    "Here we can see one of the images."
   ]
  },
  {
   "cell_type": "code",
   "execution_count": 2,
   "metadata": {},
   "outputs": [
    {
     "output_type": "stream",
     "name": "stdout",
     "text": [
      "torch.Size([64, 1, 28, 28])\n"
     ]
    },
    {
     "output_type": "display_data",
     "data": {
      "text/plain": "<Figure size 432x288 with 1 Axes>",
      "image/svg+xml": "<?xml version=\"1.0\" encoding=\"utf-8\" standalone=\"no\"?>\r\n<!DOCTYPE svg PUBLIC \"-//W3C//DTD SVG 1.1//EN\"\r\n  \"http://www.w3.org/Graphics/SVG/1.1/DTD/svg11.dtd\">\r\n<svg height=\"231.84pt\" version=\"1.1\" viewBox=\"0 0 231.84 231.84\" width=\"231.84pt\" xmlns=\"http://www.w3.org/2000/svg\" xmlns:xlink=\"http://www.w3.org/1999/xlink\">\r\n <metadata>\r\n  <rdf:RDF xmlns:cc=\"http://creativecommons.org/ns#\" xmlns:dc=\"http://purl.org/dc/elements/1.1/\" xmlns:rdf=\"http://www.w3.org/1999/02/22-rdf-syntax-ns#\">\r\n   <cc:Work>\r\n    <dc:type rdf:resource=\"http://purl.org/dc/dcmitype/StillImage\"/>\r\n    <dc:date>2021-05-14T00:03:51.134323</dc:date>\r\n    <dc:format>image/svg+xml</dc:format>\r\n    <dc:creator>\r\n     <cc:Agent>\r\n      <dc:title>Matplotlib v3.4.2, https://matplotlib.org/</dc:title>\r\n     </cc:Agent>\r\n    </dc:creator>\r\n   </cc:Work>\r\n  </rdf:RDF>\r\n </metadata>\r\n <defs>\r\n  <style type=\"text/css\">*{stroke-linecap:butt;stroke-linejoin:round;}</style>\r\n </defs>\r\n <g id=\"figure_1\">\r\n  <g id=\"patch_1\">\r\n   <path d=\"M 0 231.84 \r\nL 231.84 231.84 \r\nL 231.84 0 \r\nL 0 0 \r\nz\r\n\" style=\"fill:none;\"/>\r\n  </g>\r\n  <g id=\"axes_1\">\r\n   <g id=\"patch_2\">\r\n    <path d=\"M 7.2 224.64 \r\nL 224.64 224.64 \r\nL 224.64 7.2 \r\nL 7.2 7.2 \r\nz\r\n\" style=\"fill:#ffffff;\"/>\r\n   </g>\r\n   <g clip-path=\"url(#p7e08800ea2)\">\r\n    <image height=\"218\" id=\"imaged45957d40f\" transform=\"scale(1 -1)translate(0 -218)\" width=\"218\" x=\"7.2\" xlink:href=\"data:image/png;base64,\r\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\" y=\"-6.64\"/>\r\n   </g>\r\n   <g id=\"matplotlib.axis_1\">\r\n    <g id=\"xtick_1\">\r\n     <g id=\"line2d_1\"/>\r\n    </g>\r\n    <g id=\"xtick_2\">\r\n     <g id=\"line2d_2\"/>\r\n    </g>\r\n    <g id=\"xtick_3\">\r\n     <g id=\"line2d_3\"/>\r\n    </g>\r\n    <g id=\"xtick_4\">\r\n     <g id=\"line2d_4\"/>\r\n    </g>\r\n    <g id=\"xtick_5\">\r\n     <g id=\"line2d_5\"/>\r\n    </g>\r\n    <g id=\"xtick_6\">\r\n     <g id=\"line2d_6\"/>\r\n    </g>\r\n   </g>\r\n   <g id=\"matplotlib.axis_2\">\r\n    <g id=\"ytick_1\">\r\n     <g id=\"line2d_7\"/>\r\n    </g>\r\n    <g id=\"ytick_2\">\r\n     <g id=\"line2d_8\"/>\r\n    </g>\r\n    <g id=\"ytick_3\">\r\n     <g id=\"line2d_9\"/>\r\n    </g>\r\n    <g id=\"ytick_4\">\r\n     <g id=\"line2d_10\"/>\r\n    </g>\r\n    <g id=\"ytick_5\">\r\n     <g id=\"line2d_11\"/>\r\n    </g>\r\n    <g id=\"ytick_6\">\r\n     <g id=\"line2d_12\"/>\r\n    </g>\r\n   </g>\r\n  </g>\r\n </g>\r\n <defs>\r\n  <clipPath id=\"p7e08800ea2\">\r\n   <rect height=\"217.44\" width=\"217.44\" x=\"7.2\" y=\"7.2\"/>\r\n  </clipPath>\r\n </defs>\r\n</svg>\r\n",
      "image/png": "[encoded data removed]"
     },
     "metadata": {
      "needs_background": "light"
     }
    }
   ],
   "source": [
    "image, label = next(iter(trainloader))\n",
    "helper.imshow(image[0,:])\n",
    "print(image.shape)"
   ]
  },
  {
   "cell_type": "code",
   "execution_count": 3,
   "metadata": {},
   "outputs": [
    {
     "output_type": "stream",
     "name": "stdout",
     "text": [
      "<class 'torch.Tensor'>\ntorch.Size([64, 1, 28, 28])\ntorch.Size([64])\n"
     ]
    }
   ],
   "source": [
    "print(type(image))\n",
    "print(image.shape)\n",
    "print(label.shape)"
   ]
  },
  {
   "cell_type": "code",
   "execution_count": 4,
   "metadata": {},
   "outputs": [],
   "source": [
    "%matplotlib inline\n",
    "import matplotlib.pyplot as plt"
   ]
  },
  {
   "cell_type": "code",
   "execution_count": 5,
   "metadata": {},
   "outputs": [
    {
     "output_type": "execute_result",
     "data": {
      "text/plain": [
       "<matplotlib.image.AxesImage at 0x198a57d2850>"
      ]
     },
     "metadata": {},
     "execution_count": 5
    },
    {
     "output_type": "display_data",
     "data": {
      "text/plain": "<Figure size 432x288 with 1 Axes>",
      "image/svg+xml": "<?xml version=\"1.0\" encoding=\"utf-8\" standalone=\"no\"?>\r\n<!DOCTYPE svg PUBLIC \"-//W3C//DTD SVG 1.1//EN\"\r\n  \"http://www.w3.org/Graphics/SVG/1.1/DTD/svg11.dtd\">\r\n<svg height=\"248.518125pt\" version=\"1.1\" viewBox=\"0 0 251.565 248.518125\" width=\"251.565pt\" xmlns=\"http://www.w3.org/2000/svg\" xmlns:xlink=\"http://www.w3.org/1999/xlink\">\r\n <metadata>\r\n  <rdf:RDF xmlns:cc=\"http://creativecommons.org/ns#\" xmlns:dc=\"http://purl.org/dc/elements/1.1/\" xmlns:rdf=\"http://www.w3.org/1999/02/22-rdf-syntax-ns#\">\r\n   <cc:Work>\r\n    <dc:type rdf:resource=\"http://purl.org/dc/dcmitype/StillImage\"/>\r\n    <dc:date>2021-05-14T00:11:40.970001</dc:date>\r\n    <dc:format>image/svg+xml</dc:format>\r\n    <dc:creator>\r\n     <cc:Agent>\r\n      <dc:title>Matplotlib v3.4.2, https://matplotlib.org/</dc:title>\r\n     </cc:Agent>\r\n    </dc:creator>\r\n   </cc:Work>\r\n  </rdf:RDF>\r\n </metadata>\r\n <defs>\r\n  <style type=\"text/css\">*{stroke-linecap:butt;stroke-linejoin:round;}</style>\r\n </defs>\r\n <g id=\"figure_1\">\r\n  <g id=\"patch_1\">\r\n   <path d=\"M 0 248.518125 \r\nL 251.565 248.518125 \r\nL 251.565 0 \r\nL 0 0 \r\nz\r\n\" style=\"fill:none;\"/>\r\n  </g>\r\n  <g id=\"axes_1\">\r\n   <g id=\"patch_2\">\r\n    <path d=\"M 26.925 224.64 \r\nL 244.365 224.64 \r\nL 244.365 7.2 \r\nL 26.925 7.2 \r\nz\r\n\" style=\"fill:#ffffff;\"/>\r\n   </g>\r\n   <g clip-path=\"url(#p2874028cc2)\">\r\n    <image height=\"218\" id=\"imagef8d3f3ca46\" transform=\"scale(1 -1)translate(0 -218)\" width=\"218\" x=\"26.925\" xlink:href=\"data:image/png;base64,\r\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\" y=\"-6.64\"/>\r\n   </g>\r\n   <g id=\"matplotlib.axis_1\">\r\n    <g id=\"xtick_1\">\r\n     <g id=\"line2d_1\">\r\n      <defs>\r\n       <path d=\"M 0 0 \r\nL 0 3.5 \r\n\" id=\"m4a9ebfa8a2\" style=\"stroke:#000000;stroke-width:0.8;\"/>\r\n      </defs>\r\n      <g>\r\n       <use style=\"stroke:#000000;stroke-width:0.8;\" x=\"30.807857\" xlink:href=\"#m4a9ebfa8a2\" y=\"224.64\"/>\r\n      </g>\r\n     </g>\r\n     <g id=\"text_1\">\r\n      <!-- 0 -->\r\n      <g transform=\"translate(27.626607 239.238437)scale(0.1 -0.1)\">\r\n       <defs>\r\n        <path d=\"M 2034 4250 \r\nQ 1547 4250 1301 3770 \r\nQ 1056 3291 1056 2328 \r\nQ 1056 1369 1301 889 \r\nQ 1547 409 2034 409 \r\nQ 2525 409 2770 889 \r\nQ 3016 1369 3016 2328 \r\nQ 3016 3291 2770 3770 \r\nQ 2525 4250 2034 4250 \r\nz\r\nM 2034 4750 \r\nQ 2819 4750 3233 4129 \r\nQ 3647 3509 3647 2328 \r\nQ 3647 1150 3233 529 \r\nQ 2819 -91 2034 -91 \r\nQ 1250 -91 836 529 \r\nQ 422 1150 422 2328 \r\nQ 422 3509 836 4129 \r\nQ 1250 4750 2034 4750 \r\nz\r\n\" id=\"DejaVuSans-30\" transform=\"scale(0.015625)\"/>\r\n       </defs>\r\n       <use xlink:href=\"#DejaVuSans-30\"/>\r\n      </g>\r\n     </g>\r\n    </g>\r\n    <g id=\"xtick_2\">\r\n     <g id=\"line2d_2\">\r\n      <g>\r\n       <use style=\"stroke:#000000;stroke-width:0.8;\" x=\"69.636429\" xlink:href=\"#m4a9ebfa8a2\" y=\"224.64\"/>\r\n      </g>\r\n     </g>\r\n     <g id=\"text_2\">\r\n      <!-- 5 -->\r\n      <g transform=\"translate(66.455179 239.238437)scale(0.1 -0.1)\">\r\n       <defs>\r\n        <path d=\"M 691 4666 \r\nL 3169 4666 \r\nL 3169 4134 \r\nL 1269 4134 \r\nL 1269 2991 \r\nQ 1406 3038 1543 3061 \r\nQ 1681 3084 1819 3084 \r\nQ 2600 3084 3056 2656 \r\nQ 3513 2228 3513 1497 \r\nQ 3513 744 3044 326 \r\nQ 2575 -91 1722 -91 \r\nQ 1428 -91 1123 -41 \r\nQ 819 9 494 109 \r\nL 494 744 \r\nQ 775 591 1075 516 \r\nQ 1375 441 1709 441 \r\nQ 2250 441 2565 725 \r\nQ 2881 1009 2881 1497 \r\nQ 2881 1984 2565 2268 \r\nQ 2250 2553 1709 2553 \r\nQ 1456 2553 1204 2497 \r\nQ 953 2441 691 2322 \r\nL 691 4666 \r\nz\r\n\" id=\"DejaVuSans-35\" transform=\"scale(0.015625)\"/>\r\n       </defs>\r\n       <use xlink:href=\"#DejaVuSans-35\"/>\r\n      </g>\r\n     </g>\r\n    </g>\r\n    <g id=\"xtick_3\">\r\n     <g id=\"line2d_3\">\r\n      <g>\r\n       <use style=\"stroke:#000000;stroke-width:0.8;\" x=\"108.465\" xlink:href=\"#m4a9ebfa8a2\" y=\"224.64\"/>\r\n      </g>\r\n     </g>\r\n     <g id=\"text_3\">\r\n      <!-- 10 -->\r\n      <g transform=\"translate(102.1025 239.238437)scale(0.1 -0.1)\">\r\n       <defs>\r\n        <path d=\"M 794 531 \r\nL 1825 531 \r\nL 1825 4091 \r\nL 703 3866 \r\nL 703 4441 \r\nL 1819 4666 \r\nL 2450 4666 \r\nL 2450 531 \r\nL 3481 531 \r\nL 3481 0 \r\nL 794 0 \r\nL 794 531 \r\nz\r\n\" id=\"DejaVuSans-31\" transform=\"scale(0.015625)\"/>\r\n       </defs>\r\n       <use xlink:href=\"#DejaVuSans-31\"/>\r\n       <use x=\"63.623047\" xlink:href=\"#DejaVuSans-30\"/>\r\n      </g>\r\n     </g>\r\n    </g>\r\n    <g id=\"xtick_4\">\r\n     <g id=\"line2d_4\">\r\n      <g>\r\n       <use style=\"stroke:#000000;stroke-width:0.8;\" x=\"147.293571\" xlink:href=\"#m4a9ebfa8a2\" y=\"224.64\"/>\r\n      </g>\r\n     </g>\r\n     <g id=\"text_4\">\r\n      <!-- 15 -->\r\n      <g transform=\"translate(140.931071 239.238437)scale(0.1 -0.1)\">\r\n       <use xlink:href=\"#DejaVuSans-31\"/>\r\n       <use x=\"63.623047\" xlink:href=\"#DejaVuSans-35\"/>\r\n      </g>\r\n     </g>\r\n    </g>\r\n    <g id=\"xtick_5\">\r\n     <g id=\"line2d_5\">\r\n      <g>\r\n       <use style=\"stroke:#000000;stroke-width:0.8;\" x=\"186.122143\" xlink:href=\"#m4a9ebfa8a2\" y=\"224.64\"/>\r\n      </g>\r\n     </g>\r\n     <g id=\"text_5\">\r\n      <!-- 20 -->\r\n      <g transform=\"translate(179.759643 239.238437)scale(0.1 -0.1)\">\r\n       <defs>\r\n        <path d=\"M 1228 531 \r\nL 3431 531 \r\nL 3431 0 \r\nL 469 0 \r\nL 469 531 \r\nQ 828 903 1448 1529 \r\nQ 2069 2156 2228 2338 \r\nQ 2531 2678 2651 2914 \r\nQ 2772 3150 2772 3378 \r\nQ 2772 3750 2511 3984 \r\nQ 2250 4219 1831 4219 \r\nQ 1534 4219 1204 4116 \r\nQ 875 4013 500 3803 \r\nL 500 4441 \r\nQ 881 4594 1212 4672 \r\nQ 1544 4750 1819 4750 \r\nQ 2544 4750 2975 4387 \r\nQ 3406 4025 3406 3419 \r\nQ 3406 3131 3298 2873 \r\nQ 3191 2616 2906 2266 \r\nQ 2828 2175 2409 1742 \r\nQ 1991 1309 1228 531 \r\nz\r\n\" id=\"DejaVuSans-32\" transform=\"scale(0.015625)\"/>\r\n       </defs>\r\n       <use xlink:href=\"#DejaVuSans-32\"/>\r\n       <use x=\"63.623047\" xlink:href=\"#DejaVuSans-30\"/>\r\n      </g>\r\n     </g>\r\n    </g>\r\n    <g id=\"xtick_6\">\r\n     <g id=\"line2d_6\">\r\n      <g>\r\n       <use style=\"stroke:#000000;stroke-width:0.8;\" x=\"224.950714\" xlink:href=\"#m4a9ebfa8a2\" y=\"224.64\"/>\r\n      </g>\r\n     </g>\r\n     <g id=\"text_6\">\r\n      <!-- 25 -->\r\n      <g transform=\"translate(218.588214 239.238437)scale(0.1 -0.1)\">\r\n       <use xlink:href=\"#DejaVuSans-32\"/>\r\n       <use x=\"63.623047\" xlink:href=\"#DejaVuSans-35\"/>\r\n      </g>\r\n     </g>\r\n    </g>\r\n   </g>\r\n   <g id=\"matplotlib.axis_2\">\r\n    <g id=\"ytick_1\">\r\n     <g id=\"line2d_7\">\r\n      <defs>\r\n       <path d=\"M 0 0 \r\nL -3.5 0 \r\n\" id=\"m8a41078c6b\" style=\"stroke:#000000;stroke-width:0.8;\"/>\r\n      </defs>\r\n      <g>\r\n       <use style=\"stroke:#000000;stroke-width:0.8;\" x=\"26.925\" xlink:href=\"#m8a41078c6b\" y=\"11.082857\"/>\r\n      </g>\r\n     </g>\r\n     <g id=\"text_7\">\r\n      <!-- 0 -->\r\n      <g transform=\"translate(13.5625 14.882076)scale(0.1 -0.1)\">\r\n       <use xlink:href=\"#DejaVuSans-30\"/>\r\n      </g>\r\n     </g>\r\n    </g>\r\n    <g id=\"ytick_2\">\r\n     <g id=\"line2d_8\">\r\n      <g>\r\n       <use style=\"stroke:#000000;stroke-width:0.8;\" x=\"26.925\" xlink:href=\"#m8a41078c6b\" y=\"49.911429\"/>\r\n      </g>\r\n     </g>\r\n     <g id=\"text_8\">\r\n      <!-- 5 -->\r\n      <g transform=\"translate(13.5625 53.710647)scale(0.1 -0.1)\">\r\n       <use xlink:href=\"#DejaVuSans-35\"/>\r\n      </g>\r\n     </g>\r\n    </g>\r\n    <g id=\"ytick_3\">\r\n     <g id=\"line2d_9\">\r\n      <g>\r\n       <use style=\"stroke:#000000;stroke-width:0.8;\" x=\"26.925\" xlink:href=\"#m8a41078c6b\" y=\"88.74\"/>\r\n      </g>\r\n     </g>\r\n     <g id=\"text_9\">\r\n      <!-- 10 -->\r\n      <g transform=\"translate(7.2 92.539219)scale(0.1 -0.1)\">\r\n       <use xlink:href=\"#DejaVuSans-31\"/>\r\n       <use x=\"63.623047\" xlink:href=\"#DejaVuSans-30\"/>\r\n      </g>\r\n     </g>\r\n    </g>\r\n    <g id=\"ytick_4\">\r\n     <g id=\"line2d_10\">\r\n      <g>\r\n       <use style=\"stroke:#000000;stroke-width:0.8;\" x=\"26.925\" xlink:href=\"#m8a41078c6b\" y=\"127.568571\"/>\r\n      </g>\r\n     </g>\r\n     <g id=\"text_10\">\r\n      <!-- 15 -->\r\n      <g transform=\"translate(7.2 131.36779)scale(0.1 -0.1)\">\r\n       <use xlink:href=\"#DejaVuSans-31\"/>\r\n       <use x=\"63.623047\" xlink:href=\"#DejaVuSans-35\"/>\r\n      </g>\r\n     </g>\r\n    </g>\r\n    <g id=\"ytick_5\">\r\n     <g id=\"line2d_11\">\r\n      <g>\r\n       <use style=\"stroke:#000000;stroke-width:0.8;\" x=\"26.925\" xlink:href=\"#m8a41078c6b\" y=\"166.397143\"/>\r\n      </g>\r\n     </g>\r\n     <g id=\"text_11\">\r\n      <!-- 20 -->\r\n      <g transform=\"translate(7.2 170.196362)scale(0.1 -0.1)\">\r\n       <use xlink:href=\"#DejaVuSans-32\"/>\r\n       <use x=\"63.623047\" xlink:href=\"#DejaVuSans-30\"/>\r\n      </g>\r\n     </g>\r\n    </g>\r\n    <g id=\"ytick_6\">\r\n     <g id=\"line2d_12\">\r\n      <g>\r\n       <use style=\"stroke:#000000;stroke-width:0.8;\" x=\"26.925\" xlink:href=\"#m8a41078c6b\" y=\"205.225714\"/>\r\n      </g>\r\n     </g>\r\n     <g id=\"text_12\">\r\n      <!-- 25 -->\r\n      <g transform=\"translate(7.2 209.024933)scale(0.1 -0.1)\">\r\n       <use xlink:href=\"#DejaVuSans-32\"/>\r\n       <use x=\"63.623047\" xlink:href=\"#DejaVuSans-35\"/>\r\n      </g>\r\n     </g>\r\n    </g>\r\n   </g>\r\n   <g id=\"patch_3\">\r\n    <path d=\"M 26.925 224.64 \r\nL 26.925 7.2 \r\n\" style=\"fill:none;stroke:#000000;stroke-linecap:square;stroke-linejoin:miter;stroke-width:0.8;\"/>\r\n   </g>\r\n   <g id=\"patch_4\">\r\n    <path d=\"M 244.365 224.64 \r\nL 244.365 7.2 \r\n\" style=\"fill:none;stroke:#000000;stroke-linecap:square;stroke-linejoin:miter;stroke-width:0.8;\"/>\r\n   </g>\r\n   <g id=\"patch_5\">\r\n    <path d=\"M 26.925 224.64 \r\nL 244.365 224.64 \r\n\" style=\"fill:none;stroke:#000000;stroke-linecap:square;stroke-linejoin:miter;stroke-width:0.8;\"/>\r\n   </g>\r\n   <g id=\"patch_6\">\r\n    <path d=\"M 26.925 7.2 \r\nL 244.365 7.2 \r\n\" style=\"fill:none;stroke:#000000;stroke-linecap:square;stroke-linejoin:miter;stroke-width:0.8;\"/>\r\n   </g>\r\n  </g>\r\n </g>\r\n <defs>\r\n  <clipPath id=\"p2874028cc2\">\r\n   <rect height=\"217.44\" width=\"217.44\" x=\"26.925\" y=\"7.2\"/>\r\n  </clipPath>\r\n </defs>\r\n</svg>\r\n",
      "image/png": "[encoded data removed]"
     },
     "metadata": {
      "needs_background": "light"
     }
    }
   ],
   "source": [
    "plt.imshow(image[1].numpy().squeeze(), cmap='Greys_r')"
   ]
  },
  {
   "cell_type": "markdown",
   "metadata": {},
   "source": [
    "## Building the network\n",
    "\n",
    "Here you should define your network. As with MNIST, each image is 28x28 which is a total of 784 pixels, and there are 10 classes. You should include at least one hidden layer. We suggest you use ReLU activations for the layers and to return the logits or log-softmax from the forward pass. It's up to you how many layers you add and the size of those layers."
   ]
  },
  {
   "cell_type": "code",
   "execution_count": null,
   "metadata": {},
   "outputs": [],
   "source": [
    "# TODO: Define your network architecture here\n"
   ]
  },
  {
   "cell_type": "markdown",
   "metadata": {},
   "source": [
    "# Train the network\n",
    "\n",
    "Now you should create your network and train it. First you'll want to define [the criterion](http://pytorch.org/docs/master/nn.html#loss-functions) ( something like `nn.CrossEntropyLoss`) and [the optimizer](http://pytorch.org/docs/master/optim.html) (typically `optim.SGD` or `optim.Adam`).\n",
    "\n",
    "Then write the training code. Remember the training pass is a fairly straightforward process:\n",
    "\n",
    "* Make a forward pass through the network to get the logits \n",
    "* Use the logits to calculate the loss\n",
    "* Perform a backward pass through the network with `loss.backward()` to calculate the gradients\n",
    "* Take a step with the optimizer to update the weights\n",
    "\n",
    "By adjusting the hyperparameters (hidden units, learning rate, etc), you should be able to get the training loss below 0.4."
   ]
  },
  {
   "cell_type": "code",
   "execution_count": null,
   "metadata": {},
   "outputs": [],
   "source": [
    "# TODO: Create the network, define the criterion and optimizer\n"
   ]
  },
  {
   "cell_type": "code",
   "execution_count": null,
   "metadata": {},
   "outputs": [],
   "source": [
    "# TODO: Train the network here\n"
   ]
  },
  {
   "cell_type": "code",
   "execution_count": null,
   "metadata": {},
   "outputs": [],
   "source": [
    "%matplotlib inline\n",
    "%config InlineBackend.figure_format = 'retina'\n",
    "\n",
    "import helper\n",
    "\n",
    "# Test out your network!\n",
    "\n",
    "dataiter = iter(testloader)\n",
    "images, labels = dataiter.next()\n",
    "img = images[0]\n",
    "# Convert 2D image to 1D vector\n",
    "img = img.resize_(1, 784)\n",
    "\n",
    "# TODO: Calculate the class probabilities (softmax) for img\n",
    "ps = \n",
    "\n",
    "# Plot the image and probabilities\n",
    "helper.view_classify(img.resize_(1, 28, 28), ps, version='Fashion')"
   ]
  }
 ],
 "metadata": {
  "kernelspec": {
   "name": "python388jvsc74a57bd0f544234e711f398b88908e27851163e26be92d0a96fb1943c05b17b59d6ed29d",
   "display_name": "Python 3.8.8 64-bit ('TorchPy': conda)"
  },
  "language_info": {
   "codemirror_mode": {
    "name": "ipython",
    "version": 3
   },
   "file_extension": ".py",
   "mimetype": "text/x-python",
   "name": "python",
   "nbconvert_exporter": "python",
   "pygments_lexer": "ipython3",
   "version": "3.8.8"
  },
  "metadata": {
   "interpreter": {
    "hash": "f544234e711f398b88908e27851163e26be92d0a96fb1943c05b17b59d6ed29d"
   }
  }
 },
 "nbformat": 4,
 "nbformat_minor": 2
}