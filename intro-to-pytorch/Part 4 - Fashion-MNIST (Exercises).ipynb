{
 "cells": [
  {
   "cell_type": "markdown",
   "metadata": {},
   "source": [
    "# Classifying Fashion-MNIST\n",
    "\n",
    "Now it's your turn to build and train a neural network. You'll be using the [Fashion-MNIST dataset](https://github.com/zalandoresearch/fashion-mnist), a drop-in replacement for the MNIST dataset. MNIST is actually quite trivial with neural networks where you can easily achieve better than 97% accuracy. Fashion-MNIST is a set of 28x28 greyscale images of clothes. It's more complex than MNIST, so it's a better representation of the actual performance of your network, and a better representation of datasets you'll use in the real world.\n",
    "\n",
    "<img src='assets/fashion-mnist-sprite.png' width=500px>\n",
    "\n",
    "In this notebook, you'll build your own neural network. For the most part, you could just copy and paste the code from Part 3, but you wouldn't be learning. It's important for you to write the code yourself and get it to work. Feel free to consult the previous notebooks though as you work through this.\n",
    "\n",
    "First off, let's load the dataset through torchvision."
   ]
  },
  {
   "cell_type": "code",
   "execution_count": 22,
   "metadata": {},
   "outputs": [],
   "source": [
    "import torch\n",
    "from torchvision import datasets, transforms\n",
    "import helper\n",
    "\n",
    "# Define a transform to normalize the data\n",
    "transform = transforms.Compose([transforms.ToTensor(),\n",
    "                                transforms.Normalize((0.5,), (0.5,))])\n",
    "# Download and load the training data\n",
    "trainset = datasets.FashionMNIST('~/.pytorch/F_MNIST_data/', download=True, train=True, transform=transform)\n",
    "trainloader = torch.utils.data.DataLoader(trainset, batch_size=64, shuffle=True)\n",
    "\n",
    "# Download and load the test data\n",
    "testset = datasets.FashionMNIST('~/.pytorch/F_MNIST_data/', download=True, train=False, transform=transform)\n",
    "testloader = torch.utils.data.DataLoader(testset, batch_size=64, shuffle=True)"
   ]
  },
  {
   "cell_type": "markdown",
   "metadata": {},
   "source": [
    "Here we can see one of the images."
   ]
  },
  {
   "cell_type": "code",
   "execution_count": 23,
   "metadata": {},
   "outputs": [
    {
     "output_type": "stream",
     "name": "stdout",
     "text": [
      "torch.Size([64, 1, 28, 28])\n"
     ]
    },
    {
     "output_type": "display_data",
     "data": {
      "text/plain": "<Figure size 432x288 with 1 Axes>",
      "image/svg+xml": "<?xml version=\"1.0\" encoding=\"utf-8\" standalone=\"no\"?>\r\n<!DOCTYPE svg PUBLIC \"-//W3C//DTD SVG 1.1//EN\"\r\n  \"http://www.w3.org/Graphics/SVG/1.1/DTD/svg11.dtd\">\r\n<svg height=\"231.84pt\" version=\"1.1\" viewBox=\"0 0 231.84 231.84\" width=\"231.84pt\" xmlns=\"http://www.w3.org/2000/svg\" xmlns:xlink=\"http://www.w3.org/1999/xlink\">\r\n <metadata>\r\n  <rdf:RDF xmlns:cc=\"http://creativecommons.org/ns#\" xmlns:dc=\"http://purl.org/dc/elements/1.1/\" xmlns:rdf=\"http://www.w3.org/1999/02/22-rdf-syntax-ns#\">\r\n   <cc:Work>\r\n    <dc:type rdf:resource=\"http://purl.org/dc/dcmitype/StillImage\"/>\r\n    <dc:date>2021-05-14T19:29:11.927792</dc:date>\r\n    <dc:format>image/svg+xml</dc:format>\r\n    <dc:creator>\r\n     <cc:Agent>\r\n      <dc:title>Matplotlib v3.4.2, https://matplotlib.org/</dc:title>\r\n     </cc:Agent>\r\n    </dc:creator>\r\n   </cc:Work>\r\n  </rdf:RDF>\r\n </metadata>\r\n <defs>\r\n  <style type=\"text/css\">*{stroke-linecap:butt;stroke-linejoin:round;}</style>\r\n </defs>\r\n <g id=\"figure_1\">\r\n  <g id=\"patch_1\">\r\n   <path d=\"M 0 231.84 \r\nL 231.84 231.84 \r\nL 231.84 0 \r\nL 0 0 \r\nz\r\n\" style=\"fill:none;\"/>\r\n  </g>\r\n  <g id=\"axes_1\">\r\n   <g id=\"patch_2\">\r\n    <path d=\"M 7.2 224.64 \r\nL 224.64 224.64 \r\nL 224.64 7.2 \r\nL 7.2 7.2 \r\nz\r\n\" style=\"fill:#ffffff;\"/>\r\n   </g>\r\n   <g clip-path=\"url(#p9dd0d9d63f)\">\r\n    <image height=\"218\" id=\"image8073b33be4\" transform=\"scale(1 -1)translate(0 -218)\" width=\"218\" x=\"7.2\" xlink:href=\"data:image/png;base64,\r\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\" y=\"-6.64\"/>\r\n   </g>\r\n   <g id=\"matplotlib.axis_1\">\r\n    <g id=\"xtick_1\">\r\n     <g id=\"line2d_1\"/>\r\n    </g>\r\n    <g id=\"xtick_2\">\r\n     <g id=\"line2d_2\"/>\r\n    </g>\r\n    <g id=\"xtick_3\">\r\n     <g id=\"line2d_3\"/>\r\n    </g>\r\n    <g id=\"xtick_4\">\r\n     <g id=\"line2d_4\"/>\r\n    </g>\r\n    <g id=\"xtick_5\">\r\n     <g id=\"line2d_5\"/>\r\n    </g>\r\n    <g id=\"xtick_6\">\r\n     <g id=\"line2d_6\"/>\r\n    </g>\r\n   </g>\r\n   <g id=\"matplotlib.axis_2\">\r\n    <g id=\"ytick_1\">\r\n     <g id=\"line2d_7\"/>\r\n    </g>\r\n    <g id=\"ytick_2\">\r\n     <g id=\"line2d_8\"/>\r\n    </g>\r\n    <g id=\"ytick_3\">\r\n     <g id=\"line2d_9\"/>\r\n    </g>\r\n    <g id=\"ytick_4\">\r\n     <g id=\"line2d_10\"/>\r\n    </g>\r\n    <g id=\"ytick_5\">\r\n     <g id=\"line2d_11\"/>\r\n    </g>\r\n    <g id=\"ytick_6\">\r\n     <g id=\"line2d_12\"/>\r\n    </g>\r\n   </g>\r\n  </g>\r\n </g>\r\n <defs>\r\n  <clipPath id=\"p9dd0d9d63f\">\r\n   <rect height=\"217.44\" width=\"217.44\" x=\"7.2\" y=\"7.2\"/>\r\n  </clipPath>\r\n </defs>\r\n</svg>\r\n",
      "image/png": "[encoded data removed]"
     },
     "metadata": {
      "needs_background": "light"
     }
    }
   ],
   "source": [
    "image, label = next(iter(trainloader))\n",
    "helper.imshow(image[0,:])\n",
    "print(image.shape)"
   ]
  },
  {
   "cell_type": "code",
   "execution_count": 24,
   "metadata": {},
   "outputs": [
    {
     "output_type": "stream",
     "name": "stdout",
     "text": [
      "<class 'torch.Tensor'>\ntorch.Size([64, 1, 28, 28])\ntorch.Size([64])\n"
     ]
    }
   ],
   "source": [
    "print(type(image))\n",
    "print(image.shape)\n",
    "print(label.shape)"
   ]
  },
  {
   "cell_type": "markdown",
   "metadata": {},
   "source": [
    "## Building the network\n",
    "\n",
    "Here you should define your network. As with MNIST, each image is 28x28 which is a total of 784 pixels, and there are 10 classes. You should include at least one hidden layer. We suggest you use ReLU activations for the layers and to return the logits or log-softmax from the forward pass. It's up to you how many layers you add and the size of those layers."
   ]
  },
  {
   "cell_type": "code",
   "execution_count": 26,
   "metadata": {},
   "outputs": [],
   "source": [
    "# TODO: Define your network architecture here\n",
    "from torch import nn\n",
    "import torch.nn.functional as F\n",
    "\n",
    "\n",
    "class Network(nn.Module):\n",
    "\n",
    "    def __init__(self):\n",
    "        super().__init__()\n",
    "\n",
    "        self.fc1 = nn.Linear(784, 256)\n",
    "        self.fc2 = nn.Linear(256, 128)\n",
    "        self.fc3 = nn.Linear(128, 64)\n",
    "        self.fc4 = nn.Linear(64, 10)\n",
    "\n",
    "    def forward(self, x):\n",
    "        x = F.relu(self.fc1(x))\n",
    "        x = F.relu(self.fc2(x))\n",
    "        x = F.relu(self.fc3(x))\n",
    "        x = F.log_softmax(self.fc4(x), dim=1)\n",
    "\n",
    "        return x"
   ]
  },
  {
   "cell_type": "markdown",
   "metadata": {},
   "source": [
    "# Train the network\n",
    "\n",
    "Now you should create your network and train it. First you'll want to define [the criterion](http://pytorch.org/docs/master/nn.html#loss-functions) ( something like `nn.CrossEntropyLoss`) and [the optimizer](http://pytorch.org/docs/master/optim.html) (typically `optim.SGD` or `optim.Adam`).\n",
    "\n",
    "Then write the training code. Remember the training pass is a fairly straightforward process:\n",
    "\n",
    "* Make a forward pass through the network to get the logits \n",
    "* Use the logits to calculate the loss\n",
    "* Perform a backward pass through the network with `loss.backward()` to calculate the gradients\n",
    "* Take a step with the optimizer to update the weights\n",
    "\n",
    "By adjusting the hyperparameters (hidden units, learning rate, etc), you should be able to get the training loss below 0.4."
   ]
  },
  {
   "cell_type": "code",
   "execution_count": 30,
   "metadata": {},
   "outputs": [
    {
     "output_type": "stream",
     "name": "stdout",
     "text": [
      "Network(\n  (fc1): Linear(in_features=784, out_features=256, bias=True)\n  (fc2): Linear(in_features=256, out_features=128, bias=True)\n  (fc3): Linear(in_features=128, out_features=64, bias=True)\n  (fc4): Linear(in_features=64, out_features=10, bias=True)\n)\n"
     ]
    }
   ],
   "source": [
    "# TODO: Create the network, define the criterion and optimizer\n",
    "from torch import optim\n",
    "\n",
    "model = Network()\n",
    "print(model)\n",
    "\n",
    "criterion = nn.NLLLoss()\n",
    "optimizer = optim.Adam(model.parameters(), lr=0.001, betas=(0.9, 0.999), eps=1e-08,)"
   ]
  },
  {
   "cell_type": "code",
   "execution_count": 31,
   "metadata": {},
   "outputs": [
    {
     "output_type": "stream",
     "name": "stdout",
     "text": [
      "Training loss: 0.5163894603882772\n",
      "Training loss: 0.37330640128045195\n",
      "Training loss: 0.3383758184212103\n",
      "Training loss: 0.3153721004136717\n",
      "Training loss: 0.29473941576982865\n"
     ]
    }
   ],
   "source": [
    "# TODO: Train the network here\n",
    "epochs = 5\n",
    "for epoch in range(epochs):\n",
    "    running_loss = 0\n",
    "    for images, labels in trainloader:\n",
    "        # Reshape Images\n",
    "        images = images.view(images.shape[0], -1)\n",
    "\n",
    "        # Training\n",
    "        optimizer.zero_grad()\n",
    "\n",
    "        output = model(images)\n",
    "        loss = criterion(output, labels)\n",
    "        loss.backward()\n",
    "        optimizer.step()\n",
    "\n",
    "        running_loss += loss.item()\n",
    "    else:\n",
    "        print(f\"Training loss: {running_loss/len(trainloader)}\")"
   ]
  },
  {
   "cell_type": "code",
   "execution_count": 42,
   "metadata": {},
   "outputs": [
    {
     "output_type": "stream",
     "name": "stdout",
     "text": [
      "tensor([[0.0926, 0.0881, 0.1023, 0.1062, 0.0989, 0.1087, 0.1039, 0.0987, 0.1012,\n         0.0994]])\n"
     ]
    },
    {
     "output_type": "display_data",
     "data": {
      "text/plain": "<Figure size 432x648 with 2 Axes>",
      "image/png": "[encoded data removed]"
     },
     "metadata": {
      "image/png": {
       "width": 424,
       "height": 216
      },
      "needs_background": "light"
     }
    }
   ],
   "source": [
    "%matplotlib inline\n",
    "%config InlineBackend.figure_format = 'retina'\n",
    "\n",
    "import helper\n",
    "\n",
    "# Test out your network!\n",
    "\n",
    "dataiter = iter(testloader)\n",
    "images, labels = dataiter.next()\n",
    "img = images[0]\n",
    "# Convert 2D image to 1D vector\n",
    "img = img.resize_(1, 784)\n",
    "\n",
    "# TODO: Calculate the class probabilities (softmax) for img\n",
    "with torch.no_grad():\n",
    "    logprob = model(img)\n",
    "\n",
    "ps = torch.exp(logprob)\n",
    "print(ps)\n",
    "# Plot the image and probabilities\n",
    "helper.view_classify(img.resize_(1, 28, 28), ps, version='Fashion')"
   ]
  },
  {
   "cell_type": "code",
   "execution_count": 39,
   "metadata": {},
   "outputs": [],
   "source": [
    "from torch import nn\n",
    "from torch import optim\n",
    "import torch.nn.functional as F\n",
    "\n",
    "class Classifier(nn.Module):\n",
    "    def __init__(self):\n",
    "        super().__init__()\n",
    "\n",
    "        self.fc1 = nn.Linear(784, 256)\n",
    "        self.fc2 = nn.Linear(256, 128)\n",
    "        self.fc3 = nn.Linear(128, 64)\n",
    "        self.fc4 = nn.Linear(64, 10)\n",
    "\n",
    "        self.dropout = nn.Dropout(p=0.2)\n",
    "\n",
    "    def forward(self, x):\n",
    "\n",
    "        x = x.view(x.shape[0], -1)\n",
    "\n",
    "        x = self.dropout(F.relu(self.fc1(x)))\n",
    "        x = self.dropout(F.relu(self.fc2(x)))\n",
    "        x = self.dropout(F.relu(self.fc3(x)))\n",
    "\n",
    "        x = F.log_softmax(self.fc4(x), dim=1)\n",
    "\n",
    "        return x"
   ]
  },
  {
   "cell_type": "code",
   "execution_count": 40,
   "metadata": {},
   "outputs": [
    {
     "output_type": "stream",
     "name": "stdout",
     "text": [
      "Classifier(\n  (fc1): Linear(in_features=784, out_features=256, bias=True)\n  (fc2): Linear(in_features=256, out_features=128, bias=True)\n  (fc3): Linear(in_features=128, out_features=64, bias=True)\n  (fc4): Linear(in_features=64, out_features=10, bias=True)\n  (dropout): Dropout(p=0.2, inplace=False)\n)\n"
     ]
    }
   ],
   "source": [
    "model = Classifier()\n",
    "print(model)"
   ]
  },
  {
   "cell_type": "code",
   "execution_count": 41,
   "metadata": {},
   "outputs": [],
   "source": [
    "criterion = nn.NLLLoss()\n",
    "optimizer = optim.Adam(model.parameters(), lr=0.003)"
   ]
  }
 ],
 "metadata": {
  "kernelspec": {
   "name": "python388jvsc74a57bd0f544234e711f398b88908e27851163e26be92d0a96fb1943c05b17b59d6ed29d",
   "display_name": "Python 3.8.8 64-bit ('TorchPy': conda)"
  },
  "language_info": {
   "codemirror_mode": {
    "name": "ipython",
    "version": 3
   },
   "file_extension": ".py",
   "mimetype": "text/x-python",
   "name": "python",
   "nbconvert_exporter": "python",
   "pygments_lexer": "ipython3",
   "version": "3.8.8"
  },
  "metadata": {
   "interpreter": {
    "hash": "f544234e711f398b88908e27851163e26be92d0a96fb1943c05b17b59d6ed29d"
   }
  }
 },
 "nbformat": 4,
 "nbformat_minor": 2
}